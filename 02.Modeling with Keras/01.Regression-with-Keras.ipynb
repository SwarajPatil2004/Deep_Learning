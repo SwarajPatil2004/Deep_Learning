{
 "cells": [
  {
   "cell_type": "markdown",
   "metadata": {},
   "source": [
    "# Regression Models with Keras"
   ]
  },
  {
   "cell_type": "markdown",
   "metadata": {},
   "source": [
    "## Introduction\n"
   ]
  },
  {
   "cell_type": "markdown",
   "metadata": {},
   "source": [
    "As we discussed in the videos, despite the popularity of more powerful libraries such as PyToch and TensorFlow, they are not easy to use and have a steep learning curve. So, for people who are just starting to learn deep learning, there is no better library to use other than the Keras library. \n",
    "\n",
    "Keras is a high-level API for building deep learning models. It has gained favor for its ease of use and syntactic simplicity facilitating fast development. As you will see in this lab and the other labs in this course, building a very complex deep learning network can be achieved with Keras with only few lines of code. You will appreciate Keras even more, once you learn how to build deep models using PyTorch and TensorFlow in the other courses."
   ]
  },
  {
   "cell_type": "markdown",
   "metadata": {},
   "source": [
    "## Objectives for this Notebook    \n",
    "* How to use the Keras library to build a regression model\n",
    "* Download and clean the data set\n",
    "* Build a neural network\n",
    "* Train and test the network     \n",
    "\n"
   ]
  },
  {
   "cell_type": "markdown",
   "metadata": {},
   "source": [
    "<h2>Table of Contents</h2>\n",
    "1. <a href=\"#Download-and-Clean-the-Data-Set\">Download and Clean the Data Set</a><br>\n",
    "2. <a href=\"#Import-Keras-Packages\">Import Keras Packages</a><br>\n",
    "3. <a href=\"#Build-a-Neural-Network\">Build a Neural Network</a><br>\n",
    "4. <a href=\"#Train-and-Test-the-Network\">Train and Test the Network</a><br>  \n"
   ]
  },
  {
   "cell_type": "markdown",
   "metadata": {},
   "source": [
    "#### To use Keras, you will also need to install a backend framework – such as TensorFlow.\n",
    "\n",
    "If you install TensorFlow 2.16 or above, it will install Keras by default.\n",
    "\n",
    "We are using the CPU version of tensorflow since we are dealing with smaller datasets. \n",
    "You may install the GPU version of tensorflow on your machine to accelarate the processing of larger datasets\n"
   ]
  },
  {
   "cell_type": "markdown",
   "metadata": {},
   "source": [
    "#### Suppress the tensorflow warning messages\n",
    "We use the following code to  suppress the warning messages due to use of CPU architechture for tensoflow.\n",
    "\n",
    "You may want to **comment out** these lines if you are using the GPU architechture\n"
   ]
  },
  {
   "cell_type": "code",
   "execution_count": 1,
   "metadata": {},
   "outputs": [],
   "source": [
    "import os\n",
    "os.environ['TF_ENABLE_ONEDNN_OPTS'] = '0'\n",
    "os.environ['TF_CPP_MIN_LOG_LEVEL'] = '2'"
   ]
  },
  {
   "cell_type": "code",
   "execution_count": 2,
   "metadata": {},
   "outputs": [],
   "source": [
    "import pandas as pd\n",
    "import numpy as np\n",
    "import keras\n",
    "\n",
    "import warnings\n",
    "warnings.simplefilter('ignore', FutureWarning)"
   ]
  },
  {
   "cell_type": "markdown",
   "metadata": {},
   "source": [
    "We will be playing around with the same dataset that we used in the videos.\n",
    "\n",
    "<strong>The dataset is about the compressive strength of different samples of concrete based on the volumes of the different ingredients that were used to make them. Ingredients include:</strong>\n",
    "\n",
    "* Cement\n",
    "* Blast furnace slag\n",
    "* Fly ash\n",
    "* Water\n",
    "* Superplasticizer\n",
    "* Coarse aggregate\n",
    "* Fine aggregate\n"
   ]
  },
  {
   "cell_type": "markdown",
   "metadata": {},
   "source": [
    "## Download and Clean the Data Set\n"
   ]
  },
  {
   "cell_type": "markdown",
   "metadata": {},
   "source": [
    "Let's download the data and read it into a <em>pandas</em> dataframe.\n"
   ]
  },
  {
   "cell_type": "code",
   "execution_count": 3,
   "metadata": {},
   "outputs": [
    {
     "data": {
      "text/html": [
       "<div>\n",
       "<style scoped>\n",
       "    .dataframe tbody tr th:only-of-type {\n",
       "        vertical-align: middle;\n",
       "    }\n",
       "\n",
       "    .dataframe tbody tr th {\n",
       "        vertical-align: top;\n",
       "    }\n",
       "\n",
       "    .dataframe thead th {\n",
       "        text-align: right;\n",
       "    }\n",
       "</style>\n",
       "<table border=\"1\" class=\"dataframe\">\n",
       "  <thead>\n",
       "    <tr style=\"text-align: right;\">\n",
       "      <th></th>\n",
       "      <th>Cement</th>\n",
       "      <th>Blast Furnace Slag</th>\n",
       "      <th>Fly Ash</th>\n",
       "      <th>Water</th>\n",
       "      <th>Superplasticizer</th>\n",
       "      <th>Coarse Aggregate</th>\n",
       "      <th>Fine Aggregate</th>\n",
       "      <th>Age</th>\n",
       "      <th>Strength</th>\n",
       "    </tr>\n",
       "  </thead>\n",
       "  <tbody>\n",
       "    <tr>\n",
       "      <th>0</th>\n",
       "      <td>540.0</td>\n",
       "      <td>0.0</td>\n",
       "      <td>0.0</td>\n",
       "      <td>162.0</td>\n",
       "      <td>2.5</td>\n",
       "      <td>1040.0</td>\n",
       "      <td>676.0</td>\n",
       "      <td>28</td>\n",
       "      <td>79.99</td>\n",
       "    </tr>\n",
       "    <tr>\n",
       "      <th>1</th>\n",
       "      <td>540.0</td>\n",
       "      <td>0.0</td>\n",
       "      <td>0.0</td>\n",
       "      <td>162.0</td>\n",
       "      <td>2.5</td>\n",
       "      <td>1055.0</td>\n",
       "      <td>676.0</td>\n",
       "      <td>28</td>\n",
       "      <td>61.89</td>\n",
       "    </tr>\n",
       "    <tr>\n",
       "      <th>2</th>\n",
       "      <td>332.5</td>\n",
       "      <td>142.5</td>\n",
       "      <td>0.0</td>\n",
       "      <td>228.0</td>\n",
       "      <td>0.0</td>\n",
       "      <td>932.0</td>\n",
       "      <td>594.0</td>\n",
       "      <td>270</td>\n",
       "      <td>40.27</td>\n",
       "    </tr>\n",
       "    <tr>\n",
       "      <th>3</th>\n",
       "      <td>332.5</td>\n",
       "      <td>142.5</td>\n",
       "      <td>0.0</td>\n",
       "      <td>228.0</td>\n",
       "      <td>0.0</td>\n",
       "      <td>932.0</td>\n",
       "      <td>594.0</td>\n",
       "      <td>365</td>\n",
       "      <td>41.05</td>\n",
       "    </tr>\n",
       "    <tr>\n",
       "      <th>4</th>\n",
       "      <td>198.6</td>\n",
       "      <td>132.4</td>\n",
       "      <td>0.0</td>\n",
       "      <td>192.0</td>\n",
       "      <td>0.0</td>\n",
       "      <td>978.4</td>\n",
       "      <td>825.5</td>\n",
       "      <td>360</td>\n",
       "      <td>44.30</td>\n",
       "    </tr>\n",
       "  </tbody>\n",
       "</table>\n",
       "</div>"
      ],
      "text/plain": [
       "   Cement  Blast Furnace Slag  Fly Ash  Water  Superplasticizer  \\\n",
       "0   540.0                 0.0      0.0  162.0               2.5   \n",
       "1   540.0                 0.0      0.0  162.0               2.5   \n",
       "2   332.5               142.5      0.0  228.0               0.0   \n",
       "3   332.5               142.5      0.0  228.0               0.0   \n",
       "4   198.6               132.4      0.0  192.0               0.0   \n",
       "\n",
       "   Coarse Aggregate  Fine Aggregate  Age  Strength  \n",
       "0            1040.0           676.0   28     79.99  \n",
       "1            1055.0           676.0   28     61.89  \n",
       "2             932.0           594.0  270     40.27  \n",
       "3             932.0           594.0  365     41.05  \n",
       "4             978.4           825.5  360     44.30  "
      ]
     },
     "execution_count": 3,
     "metadata": {},
     "output_type": "execute_result"
    }
   ],
   "source": [
    "filepath='https://s3-api.us-geo.objectstorage.softlayer.net/cf-courses-data/CognitiveClass/DL0101EN/labs/data/concrete_data.csv'\n",
    "concrete_data = pd.read_csv(filepath)\n",
    "\n",
    "concrete_data.head()"
   ]
  },
  {
   "cell_type": "markdown",
   "metadata": {},
   "source": [
    "So the first concrete sample has 540 cubic meter of cement, 0 cubic meter of blast furnace slag, 0 cubic meter of fly ash, 162 cubic meter of water, 2.5 cubic meter of superplaticizer, 1040 cubic meter of coarse aggregate, 676 cubic meter of fine aggregate. Such a concrete mix which is 28 days old, has a compressive strength of 79.99 MPa. \n"
   ]
  },
  {
   "cell_type": "markdown",
   "metadata": {},
   "source": [
    "#### Let's check how many data points we have\n"
   ]
  },
  {
   "cell_type": "code",
   "execution_count": 4,
   "metadata": {},
   "outputs": [
    {
     "data": {
      "text/plain": [
       "(1030, 9)"
      ]
     },
     "execution_count": 4,
     "metadata": {},
     "output_type": "execute_result"
    }
   ],
   "source": [
    "concrete_data.shape"
   ]
  },
  {
   "cell_type": "markdown",
   "metadata": {},
   "source": [
    "So, there are approximately 1000 samples to train our model on. Because of the few samples, we have to be careful not to overfit the training data.\n"
   ]
  },
  {
   "cell_type": "markdown",
   "metadata": {},
   "source": [
    "Let's check the dataset for any missing values.\n"
   ]
  },
  {
   "cell_type": "code",
   "execution_count": 5,
   "metadata": {},
   "outputs": [
    {
     "data": {
      "text/html": [
       "<div>\n",
       "<style scoped>\n",
       "    .dataframe tbody tr th:only-of-type {\n",
       "        vertical-align: middle;\n",
       "    }\n",
       "\n",
       "    .dataframe tbody tr th {\n",
       "        vertical-align: top;\n",
       "    }\n",
       "\n",
       "    .dataframe thead th {\n",
       "        text-align: right;\n",
       "    }\n",
       "</style>\n",
       "<table border=\"1\" class=\"dataframe\">\n",
       "  <thead>\n",
       "    <tr style=\"text-align: right;\">\n",
       "      <th></th>\n",
       "      <th>Cement</th>\n",
       "      <th>Blast Furnace Slag</th>\n",
       "      <th>Fly Ash</th>\n",
       "      <th>Water</th>\n",
       "      <th>Superplasticizer</th>\n",
       "      <th>Coarse Aggregate</th>\n",
       "      <th>Fine Aggregate</th>\n",
       "      <th>Age</th>\n",
       "      <th>Strength</th>\n",
       "    </tr>\n",
       "  </thead>\n",
       "  <tbody>\n",
       "    <tr>\n",
       "      <th>count</th>\n",
       "      <td>1030.000000</td>\n",
       "      <td>1030.000000</td>\n",
       "      <td>1030.000000</td>\n",
       "      <td>1030.000000</td>\n",
       "      <td>1030.000000</td>\n",
       "      <td>1030.000000</td>\n",
       "      <td>1030.000000</td>\n",
       "      <td>1030.000000</td>\n",
       "      <td>1030.000000</td>\n",
       "    </tr>\n",
       "    <tr>\n",
       "      <th>mean</th>\n",
       "      <td>281.167864</td>\n",
       "      <td>73.895825</td>\n",
       "      <td>54.188350</td>\n",
       "      <td>181.567282</td>\n",
       "      <td>6.204660</td>\n",
       "      <td>972.918932</td>\n",
       "      <td>773.580485</td>\n",
       "      <td>45.662136</td>\n",
       "      <td>35.817961</td>\n",
       "    </tr>\n",
       "    <tr>\n",
       "      <th>std</th>\n",
       "      <td>104.506364</td>\n",
       "      <td>86.279342</td>\n",
       "      <td>63.997004</td>\n",
       "      <td>21.354219</td>\n",
       "      <td>5.973841</td>\n",
       "      <td>77.753954</td>\n",
       "      <td>80.175980</td>\n",
       "      <td>63.169912</td>\n",
       "      <td>16.705742</td>\n",
       "    </tr>\n",
       "    <tr>\n",
       "      <th>min</th>\n",
       "      <td>102.000000</td>\n",
       "      <td>0.000000</td>\n",
       "      <td>0.000000</td>\n",
       "      <td>121.800000</td>\n",
       "      <td>0.000000</td>\n",
       "      <td>801.000000</td>\n",
       "      <td>594.000000</td>\n",
       "      <td>1.000000</td>\n",
       "      <td>2.330000</td>\n",
       "    </tr>\n",
       "    <tr>\n",
       "      <th>25%</th>\n",
       "      <td>192.375000</td>\n",
       "      <td>0.000000</td>\n",
       "      <td>0.000000</td>\n",
       "      <td>164.900000</td>\n",
       "      <td>0.000000</td>\n",
       "      <td>932.000000</td>\n",
       "      <td>730.950000</td>\n",
       "      <td>7.000000</td>\n",
       "      <td>23.710000</td>\n",
       "    </tr>\n",
       "    <tr>\n",
       "      <th>50%</th>\n",
       "      <td>272.900000</td>\n",
       "      <td>22.000000</td>\n",
       "      <td>0.000000</td>\n",
       "      <td>185.000000</td>\n",
       "      <td>6.400000</td>\n",
       "      <td>968.000000</td>\n",
       "      <td>779.500000</td>\n",
       "      <td>28.000000</td>\n",
       "      <td>34.445000</td>\n",
       "    </tr>\n",
       "    <tr>\n",
       "      <th>75%</th>\n",
       "      <td>350.000000</td>\n",
       "      <td>142.950000</td>\n",
       "      <td>118.300000</td>\n",
       "      <td>192.000000</td>\n",
       "      <td>10.200000</td>\n",
       "      <td>1029.400000</td>\n",
       "      <td>824.000000</td>\n",
       "      <td>56.000000</td>\n",
       "      <td>46.135000</td>\n",
       "    </tr>\n",
       "    <tr>\n",
       "      <th>max</th>\n",
       "      <td>540.000000</td>\n",
       "      <td>359.400000</td>\n",
       "      <td>200.100000</td>\n",
       "      <td>247.000000</td>\n",
       "      <td>32.200000</td>\n",
       "      <td>1145.000000</td>\n",
       "      <td>992.600000</td>\n",
       "      <td>365.000000</td>\n",
       "      <td>82.600000</td>\n",
       "    </tr>\n",
       "  </tbody>\n",
       "</table>\n",
       "</div>"
      ],
      "text/plain": [
       "            Cement  Blast Furnace Slag      Fly Ash        Water  \\\n",
       "count  1030.000000         1030.000000  1030.000000  1030.000000   \n",
       "mean    281.167864           73.895825    54.188350   181.567282   \n",
       "std     104.506364           86.279342    63.997004    21.354219   \n",
       "min     102.000000            0.000000     0.000000   121.800000   \n",
       "25%     192.375000            0.000000     0.000000   164.900000   \n",
       "50%     272.900000           22.000000     0.000000   185.000000   \n",
       "75%     350.000000          142.950000   118.300000   192.000000   \n",
       "max     540.000000          359.400000   200.100000   247.000000   \n",
       "\n",
       "       Superplasticizer  Coarse Aggregate  Fine Aggregate          Age  \\\n",
       "count       1030.000000       1030.000000     1030.000000  1030.000000   \n",
       "mean           6.204660        972.918932      773.580485    45.662136   \n",
       "std            5.973841         77.753954       80.175980    63.169912   \n",
       "min            0.000000        801.000000      594.000000     1.000000   \n",
       "25%            0.000000        932.000000      730.950000     7.000000   \n",
       "50%            6.400000        968.000000      779.500000    28.000000   \n",
       "75%           10.200000       1029.400000      824.000000    56.000000   \n",
       "max           32.200000       1145.000000      992.600000   365.000000   \n",
       "\n",
       "          Strength  \n",
       "count  1030.000000  \n",
       "mean     35.817961  \n",
       "std      16.705742  \n",
       "min       2.330000  \n",
       "25%      23.710000  \n",
       "50%      34.445000  \n",
       "75%      46.135000  \n",
       "max      82.600000  "
      ]
     },
     "execution_count": 5,
     "metadata": {},
     "output_type": "execute_result"
    }
   ],
   "source": [
    "concrete_data.describe()"
   ]
  },
  {
   "cell_type": "code",
   "execution_count": 6,
   "metadata": {},
   "outputs": [
    {
     "data": {
      "text/plain": [
       "Cement                0\n",
       "Blast Furnace Slag    0\n",
       "Fly Ash               0\n",
       "Water                 0\n",
       "Superplasticizer      0\n",
       "Coarse Aggregate      0\n",
       "Fine Aggregate        0\n",
       "Age                   0\n",
       "Strength              0\n",
       "dtype: int64"
      ]
     },
     "execution_count": 6,
     "metadata": {},
     "output_type": "execute_result"
    }
   ],
   "source": [
    "concrete_data.isnull().sum()"
   ]
  },
  {
   "cell_type": "markdown",
   "metadata": {},
   "source": [
    "The data looks very clean and is ready to be used to build our model.\n"
   ]
  },
  {
   "cell_type": "markdown",
   "metadata": {},
   "source": [
    "#### Split data into predictors and target\n"
   ]
  },
  {
   "cell_type": "markdown",
   "metadata": {},
   "source": [
    "The target variable in this problem is the concrete sample strength. Therefore, our predictors will be all the other columns.\n"
   ]
  },
  {
   "cell_type": "code",
   "execution_count": 7,
   "metadata": {},
   "outputs": [],
   "source": [
    "concrete_data_columns = concrete_data.columns"
   ]
  },
  {
   "cell_type": "code",
   "execution_count": 8,
   "metadata": {},
   "outputs": [],
   "source": [
    "predictors = concrete_data[concrete_data_columns[concrete_data_columns != 'Strength']] # all columns except Strength\n",
    "target = concrete_data['Strength'] # Strength column"
   ]
  },
  {
   "cell_type": "markdown",
   "metadata": {},
   "source": [
    "Let's do a quick sanity check of the predictors and the target dataframes.\n"
   ]
  },
  {
   "cell_type": "code",
   "execution_count": 9,
   "metadata": {},
   "outputs": [
    {
     "data": {
      "text/html": [
       "<div>\n",
       "<style scoped>\n",
       "    .dataframe tbody tr th:only-of-type {\n",
       "        vertical-align: middle;\n",
       "    }\n",
       "\n",
       "    .dataframe tbody tr th {\n",
       "        vertical-align: top;\n",
       "    }\n",
       "\n",
       "    .dataframe thead th {\n",
       "        text-align: right;\n",
       "    }\n",
       "</style>\n",
       "<table border=\"1\" class=\"dataframe\">\n",
       "  <thead>\n",
       "    <tr style=\"text-align: right;\">\n",
       "      <th></th>\n",
       "      <th>Cement</th>\n",
       "      <th>Blast Furnace Slag</th>\n",
       "      <th>Fly Ash</th>\n",
       "      <th>Water</th>\n",
       "      <th>Superplasticizer</th>\n",
       "      <th>Coarse Aggregate</th>\n",
       "      <th>Fine Aggregate</th>\n",
       "      <th>Age</th>\n",
       "    </tr>\n",
       "  </thead>\n",
       "  <tbody>\n",
       "    <tr>\n",
       "      <th>0</th>\n",
       "      <td>540.0</td>\n",
       "      <td>0.0</td>\n",
       "      <td>0.0</td>\n",
       "      <td>162.0</td>\n",
       "      <td>2.5</td>\n",
       "      <td>1040.0</td>\n",
       "      <td>676.0</td>\n",
       "      <td>28</td>\n",
       "    </tr>\n",
       "    <tr>\n",
       "      <th>1</th>\n",
       "      <td>540.0</td>\n",
       "      <td>0.0</td>\n",
       "      <td>0.0</td>\n",
       "      <td>162.0</td>\n",
       "      <td>2.5</td>\n",
       "      <td>1055.0</td>\n",
       "      <td>676.0</td>\n",
       "      <td>28</td>\n",
       "    </tr>\n",
       "    <tr>\n",
       "      <th>2</th>\n",
       "      <td>332.5</td>\n",
       "      <td>142.5</td>\n",
       "      <td>0.0</td>\n",
       "      <td>228.0</td>\n",
       "      <td>0.0</td>\n",
       "      <td>932.0</td>\n",
       "      <td>594.0</td>\n",
       "      <td>270</td>\n",
       "    </tr>\n",
       "    <tr>\n",
       "      <th>3</th>\n",
       "      <td>332.5</td>\n",
       "      <td>142.5</td>\n",
       "      <td>0.0</td>\n",
       "      <td>228.0</td>\n",
       "      <td>0.0</td>\n",
       "      <td>932.0</td>\n",
       "      <td>594.0</td>\n",
       "      <td>365</td>\n",
       "    </tr>\n",
       "    <tr>\n",
       "      <th>4</th>\n",
       "      <td>198.6</td>\n",
       "      <td>132.4</td>\n",
       "      <td>0.0</td>\n",
       "      <td>192.0</td>\n",
       "      <td>0.0</td>\n",
       "      <td>978.4</td>\n",
       "      <td>825.5</td>\n",
       "      <td>360</td>\n",
       "    </tr>\n",
       "  </tbody>\n",
       "</table>\n",
       "</div>"
      ],
      "text/plain": [
       "   Cement  Blast Furnace Slag  Fly Ash  Water  Superplasticizer  \\\n",
       "0   540.0                 0.0      0.0  162.0               2.5   \n",
       "1   540.0                 0.0      0.0  162.0               2.5   \n",
       "2   332.5               142.5      0.0  228.0               0.0   \n",
       "3   332.5               142.5      0.0  228.0               0.0   \n",
       "4   198.6               132.4      0.0  192.0               0.0   \n",
       "\n",
       "   Coarse Aggregate  Fine Aggregate  Age  \n",
       "0            1040.0           676.0   28  \n",
       "1            1055.0           676.0   28  \n",
       "2             932.0           594.0  270  \n",
       "3             932.0           594.0  365  \n",
       "4             978.4           825.5  360  "
      ]
     },
     "execution_count": 9,
     "metadata": {},
     "output_type": "execute_result"
    }
   ],
   "source": [
    "predictors.head()"
   ]
  },
  {
   "cell_type": "code",
   "execution_count": 10,
   "metadata": {},
   "outputs": [
    {
     "data": {
      "text/plain": [
       "0    79.99\n",
       "1    61.89\n",
       "2    40.27\n",
       "3    41.05\n",
       "4    44.30\n",
       "Name: Strength, dtype: float64"
      ]
     },
     "execution_count": 10,
     "metadata": {},
     "output_type": "execute_result"
    }
   ],
   "source": [
    "target.head()"
   ]
  },
  {
   "cell_type": "markdown",
   "metadata": {},
   "source": [
    "Finally, the last step is to normalize the data by substracting the mean and dividing by the standard deviation.\n"
   ]
  },
  {
   "cell_type": "code",
   "execution_count": 11,
   "metadata": {},
   "outputs": [
    {
     "data": {
      "text/html": [
       "<div>\n",
       "<style scoped>\n",
       "    .dataframe tbody tr th:only-of-type {\n",
       "        vertical-align: middle;\n",
       "    }\n",
       "\n",
       "    .dataframe tbody tr th {\n",
       "        vertical-align: top;\n",
       "    }\n",
       "\n",
       "    .dataframe thead th {\n",
       "        text-align: right;\n",
       "    }\n",
       "</style>\n",
       "<table border=\"1\" class=\"dataframe\">\n",
       "  <thead>\n",
       "    <tr style=\"text-align: right;\">\n",
       "      <th></th>\n",
       "      <th>Cement</th>\n",
       "      <th>Blast Furnace Slag</th>\n",
       "      <th>Fly Ash</th>\n",
       "      <th>Water</th>\n",
       "      <th>Superplasticizer</th>\n",
       "      <th>Coarse Aggregate</th>\n",
       "      <th>Fine Aggregate</th>\n",
       "      <th>Age</th>\n",
       "    </tr>\n",
       "  </thead>\n",
       "  <tbody>\n",
       "    <tr>\n",
       "      <th>0</th>\n",
       "      <td>2.476712</td>\n",
       "      <td>-0.856472</td>\n",
       "      <td>-0.846733</td>\n",
       "      <td>-0.916319</td>\n",
       "      <td>-0.620147</td>\n",
       "      <td>0.862735</td>\n",
       "      <td>-1.217079</td>\n",
       "      <td>-0.279597</td>\n",
       "    </tr>\n",
       "    <tr>\n",
       "      <th>1</th>\n",
       "      <td>2.476712</td>\n",
       "      <td>-0.856472</td>\n",
       "      <td>-0.846733</td>\n",
       "      <td>-0.916319</td>\n",
       "      <td>-0.620147</td>\n",
       "      <td>1.055651</td>\n",
       "      <td>-1.217079</td>\n",
       "      <td>-0.279597</td>\n",
       "    </tr>\n",
       "    <tr>\n",
       "      <th>2</th>\n",
       "      <td>0.491187</td>\n",
       "      <td>0.795140</td>\n",
       "      <td>-0.846733</td>\n",
       "      <td>2.174405</td>\n",
       "      <td>-1.038638</td>\n",
       "      <td>-0.526262</td>\n",
       "      <td>-2.239829</td>\n",
       "      <td>3.551340</td>\n",
       "    </tr>\n",
       "    <tr>\n",
       "      <th>3</th>\n",
       "      <td>0.491187</td>\n",
       "      <td>0.795140</td>\n",
       "      <td>-0.846733</td>\n",
       "      <td>2.174405</td>\n",
       "      <td>-1.038638</td>\n",
       "      <td>-0.526262</td>\n",
       "      <td>-2.239829</td>\n",
       "      <td>5.055221</td>\n",
       "    </tr>\n",
       "    <tr>\n",
       "      <th>4</th>\n",
       "      <td>-0.790075</td>\n",
       "      <td>0.678079</td>\n",
       "      <td>-0.846733</td>\n",
       "      <td>0.488555</td>\n",
       "      <td>-1.038638</td>\n",
       "      <td>0.070492</td>\n",
       "      <td>0.647569</td>\n",
       "      <td>4.976069</td>\n",
       "    </tr>\n",
       "  </tbody>\n",
       "</table>\n",
       "</div>"
      ],
      "text/plain": [
       "     Cement  Blast Furnace Slag   Fly Ash     Water  Superplasticizer  \\\n",
       "0  2.476712           -0.856472 -0.846733 -0.916319         -0.620147   \n",
       "1  2.476712           -0.856472 -0.846733 -0.916319         -0.620147   \n",
       "2  0.491187            0.795140 -0.846733  2.174405         -1.038638   \n",
       "3  0.491187            0.795140 -0.846733  2.174405         -1.038638   \n",
       "4 -0.790075            0.678079 -0.846733  0.488555         -1.038638   \n",
       "\n",
       "   Coarse Aggregate  Fine Aggregate       Age  \n",
       "0          0.862735       -1.217079 -0.279597  \n",
       "1          1.055651       -1.217079 -0.279597  \n",
       "2         -0.526262       -2.239829  3.551340  \n",
       "3         -0.526262       -2.239829  5.055221  \n",
       "4          0.070492        0.647569  4.976069  "
      ]
     },
     "execution_count": 11,
     "metadata": {},
     "output_type": "execute_result"
    }
   ],
   "source": [
    "predictors_norm = (predictors - predictors.mean()) / predictors.std()\n",
    "predictors_norm.head()"
   ]
  },
  {
   "cell_type": "markdown",
   "metadata": {},
   "source": [
    "Let's save the number of predictors to *n_cols* since we will need this number when building our network.\n"
   ]
  },
  {
   "cell_type": "code",
   "execution_count": 12,
   "metadata": {},
   "outputs": [],
   "source": [
    "n_cols = predictors_norm.shape[1] # number of predictors"
   ]
  },
  {
   "cell_type": "markdown",
   "metadata": {},
   "source": [
    "##  Import Keras Packages\n",
    "\n",
    "##### Let's import the rest of the packages from the Keras library that we will need to build our regression model.\n"
   ]
  },
  {
   "cell_type": "code",
   "execution_count": 13,
   "metadata": {},
   "outputs": [],
   "source": [
    "from keras.models import Sequential\n",
    "from keras.layers import Dense\n",
    "from keras.layers import Input"
   ]
  },
  {
   "cell_type": "markdown",
   "metadata": {},
   "source": [
    "## Build a Neural Network\n"
   ]
  },
  {
   "cell_type": "markdown",
   "metadata": {},
   "source": [
    "Let's define a function that defines our regression model for us so that we can conveniently call it to create our model.\n"
   ]
  },
  {
   "cell_type": "code",
   "execution_count": 14,
   "metadata": {},
   "outputs": [],
   "source": [
    "# define regression model\n",
    "def regression_model():\n",
    "    # create model\n",
    "    model = Sequential()\n",
    "    model.add(Input(shape=(n_cols,)))\n",
    "    model.add(Dense(50, activation='relu'))\n",
    "    model.add(Dense(50, activation='relu'))\n",
    "    model.add(Dense(1))\n",
    "    \n",
    "    # compile model\n",
    "    model.compile(optimizer='adam', loss='mean_squared_error')\n",
    "    return model"
   ]
  },
  {
   "cell_type": "markdown",
   "metadata": {},
   "source": [
    "The above function create a model that has two hidden layers, each of 50 hidden units.\n"
   ]
  },
  {
   "cell_type": "markdown",
   "metadata": {},
   "source": [
    "## Train and Test the Network\n"
   ]
  },
  {
   "cell_type": "markdown",
   "metadata": {},
   "source": [
    "Let's call the function now to create our model.\n"
   ]
  },
  {
   "cell_type": "code",
   "execution_count": 15,
   "metadata": {},
   "outputs": [],
   "source": [
    "# build the model\n",
    "model = regression_model()"
   ]
  },
  {
   "cell_type": "markdown",
   "metadata": {},
   "source": [
    "Next, we will train and test the model at the same time using the *fit* method. We will leave out 30% of the data for validation and we will train the model for 100 epochs.\n"
   ]
  },
  {
   "cell_type": "code",
   "execution_count": 16,
   "metadata": {},
   "outputs": [
    {
     "name": "stdout",
     "output_type": "stream",
     "text": [
      "Epoch 1/100\n",
      "23/23 - 1s - 47ms/step - loss: 1668.6948 - val_loss: 1163.4348\n",
      "Epoch 2/100\n",
      "23/23 - 0s - 4ms/step - loss: 1544.2047 - val_loss: 1047.9375\n",
      "Epoch 3/100\n",
      "23/23 - 0s - 4ms/step - loss: 1359.0404 - val_loss: 876.7077\n",
      "Epoch 4/100\n",
      "23/23 - 0s - 4ms/step - loss: 1076.9199 - val_loss: 650.3996\n",
      "Epoch 5/100\n",
      "23/23 - 0s - 4ms/step - loss: 726.8630 - val_loss: 418.4374\n",
      "Epoch 6/100\n",
      "23/23 - 0s - 4ms/step - loss: 421.6600 - val_loss: 265.5717\n",
      "Epoch 7/100\n",
      "23/23 - 0s - 4ms/step - loss: 274.8254 - val_loss: 208.3725\n",
      "Epoch 8/100\n",
      "23/23 - 0s - 4ms/step - loss: 235.3302 - val_loss: 193.1805\n",
      "Epoch 9/100\n",
      "23/23 - 0s - 4ms/step - loss: 219.7586 - val_loss: 186.0988\n",
      "Epoch 10/100\n",
      "23/23 - 0s - 4ms/step - loss: 207.4664 - val_loss: 177.7474\n",
      "Epoch 11/100\n",
      "23/23 - 0s - 4ms/step - loss: 197.8173 - val_loss: 171.4041\n",
      "Epoch 12/100\n",
      "23/23 - 0s - 4ms/step - loss: 190.0582 - val_loss: 168.9416\n",
      "Epoch 13/100\n",
      "23/23 - 0s - 4ms/step - loss: 183.4454 - val_loss: 164.4112\n",
      "Epoch 14/100\n",
      "23/23 - 0s - 4ms/step - loss: 177.7587 - val_loss: 161.6362\n",
      "Epoch 15/100\n",
      "23/23 - 0s - 4ms/step - loss: 172.7235 - val_loss: 160.6401\n",
      "Epoch 16/100\n",
      "23/23 - 0s - 4ms/step - loss: 168.5334 - val_loss: 159.3161\n",
      "Epoch 17/100\n",
      "23/23 - 0s - 4ms/step - loss: 164.7462 - val_loss: 158.0730\n",
      "Epoch 18/100\n",
      "23/23 - 0s - 4ms/step - loss: 161.2467 - val_loss: 157.8644\n",
      "Epoch 19/100\n",
      "23/23 - 0s - 4ms/step - loss: 159.2431 - val_loss: 157.9205\n",
      "Epoch 20/100\n",
      "23/23 - 0s - 5ms/step - loss: 156.3460 - val_loss: 155.0450\n",
      "Epoch 21/100\n",
      "23/23 - 0s - 4ms/step - loss: 154.0109 - val_loss: 156.9387\n",
      "Epoch 22/100\n",
      "23/23 - 0s - 5ms/step - loss: 151.6874 - val_loss: 154.1856\n",
      "Epoch 23/100\n",
      "23/23 - 0s - 5ms/step - loss: 149.7925 - val_loss: 156.7516\n",
      "Epoch 24/100\n",
      "23/23 - 0s - 4ms/step - loss: 147.1376 - val_loss: 155.1333\n",
      "Epoch 25/100\n",
      "23/23 - 0s - 4ms/step - loss: 145.0008 - val_loss: 155.9737\n",
      "Epoch 26/100\n",
      "23/23 - 0s - 4ms/step - loss: 143.3692 - val_loss: 155.5771\n",
      "Epoch 27/100\n",
      "23/23 - 0s - 5ms/step - loss: 141.3648 - val_loss: 156.0580\n",
      "Epoch 28/100\n",
      "23/23 - 0s - 4ms/step - loss: 139.8222 - val_loss: 155.7454\n",
      "Epoch 29/100\n",
      "23/23 - 0s - 4ms/step - loss: 138.0096 - val_loss: 153.7943\n",
      "Epoch 30/100\n",
      "23/23 - 0s - 5ms/step - loss: 135.8259 - val_loss: 155.2763\n",
      "Epoch 31/100\n",
      "23/23 - 0s - 4ms/step - loss: 134.6168 - val_loss: 156.3509\n",
      "Epoch 32/100\n",
      "23/23 - 0s - 4ms/step - loss: 133.1125 - val_loss: 155.2652\n",
      "Epoch 33/100\n",
      "23/23 - 0s - 4ms/step - loss: 131.6250 - val_loss: 152.1261\n",
      "Epoch 34/100\n",
      "23/23 - 0s - 4ms/step - loss: 129.6768 - val_loss: 155.0770\n",
      "Epoch 35/100\n",
      "23/23 - 0s - 5ms/step - loss: 127.9735 - val_loss: 152.9564\n",
      "Epoch 36/100\n",
      "23/23 - 0s - 4ms/step - loss: 126.6902 - val_loss: 152.4297\n",
      "Epoch 37/100\n",
      "23/23 - 0s - 4ms/step - loss: 125.0926 - val_loss: 153.1615\n",
      "Epoch 38/100\n",
      "23/23 - 0s - 4ms/step - loss: 123.4164 - val_loss: 155.4750\n",
      "Epoch 39/100\n",
      "23/23 - 0s - 5ms/step - loss: 120.8529 - val_loss: 151.7854\n",
      "Epoch 40/100\n",
      "23/23 - 0s - 4ms/step - loss: 119.2345 - val_loss: 150.8102\n",
      "Epoch 41/100\n",
      "23/23 - 0s - 4ms/step - loss: 117.7942 - val_loss: 153.2240\n",
      "Epoch 42/100\n",
      "23/23 - 0s - 4ms/step - loss: 116.0956 - val_loss: 150.4348\n",
      "Epoch 43/100\n",
      "23/23 - 0s - 4ms/step - loss: 113.5704 - val_loss: 151.4919\n",
      "Epoch 44/100\n",
      "23/23 - 0s - 8ms/step - loss: 111.8765 - val_loss: 146.9263\n",
      "Epoch 45/100\n",
      "23/23 - 0s - 4ms/step - loss: 110.3538 - val_loss: 147.9610\n",
      "Epoch 46/100\n",
      "23/23 - 0s - 4ms/step - loss: 108.5870 - val_loss: 148.2082\n",
      "Epoch 47/100\n",
      "23/23 - 0s - 5ms/step - loss: 105.1406 - val_loss: 148.0952\n",
      "Epoch 48/100\n",
      "23/23 - 0s - 4ms/step - loss: 103.1811 - val_loss: 148.5717\n",
      "Epoch 49/100\n",
      "23/23 - 0s - 4ms/step - loss: 101.4135 - val_loss: 145.7604\n",
      "Epoch 50/100\n",
      "23/23 - 0s - 4ms/step - loss: 98.2183 - val_loss: 145.4755\n",
      "Epoch 51/100\n",
      "23/23 - 0s - 4ms/step - loss: 95.9634 - val_loss: 142.8156\n",
      "Epoch 52/100\n",
      "23/23 - 0s - 4ms/step - loss: 93.6776 - val_loss: 142.6610\n",
      "Epoch 53/100\n",
      "23/23 - 0s - 4ms/step - loss: 91.3415 - val_loss: 140.0946\n",
      "Epoch 54/100\n",
      "23/23 - 0s - 4ms/step - loss: 88.4405 - val_loss: 136.8448\n",
      "Epoch 55/100\n",
      "23/23 - 0s - 4ms/step - loss: 85.8910 - val_loss: 136.4566\n",
      "Epoch 56/100\n",
      "23/23 - 0s - 4ms/step - loss: 83.2224 - val_loss: 134.6135\n",
      "Epoch 57/100\n",
      "23/23 - 0s - 4ms/step - loss: 80.1208 - val_loss: 133.1443\n",
      "Epoch 58/100\n",
      "23/23 - 0s - 4ms/step - loss: 77.3808 - val_loss: 129.9314\n",
      "Epoch 59/100\n",
      "23/23 - 0s - 4ms/step - loss: 74.4341 - val_loss: 128.0933\n",
      "Epoch 60/100\n",
      "23/23 - 0s - 4ms/step - loss: 71.8699 - val_loss: 130.9155\n",
      "Epoch 61/100\n",
      "23/23 - 0s - 4ms/step - loss: 70.5058 - val_loss: 128.8588\n",
      "Epoch 62/100\n",
      "23/23 - 0s - 4ms/step - loss: 67.3636 - val_loss: 121.9668\n",
      "Epoch 63/100\n",
      "23/23 - 0s - 4ms/step - loss: 65.0491 - val_loss: 125.4117\n",
      "Epoch 64/100\n",
      "23/23 - 0s - 5ms/step - loss: 62.9400 - val_loss: 118.7883\n",
      "Epoch 65/100\n",
      "23/23 - 0s - 4ms/step - loss: 61.2031 - val_loss: 126.9763\n",
      "Epoch 66/100\n",
      "23/23 - 0s - 4ms/step - loss: 59.6369 - val_loss: 122.5651\n",
      "Epoch 67/100\n",
      "23/23 - 0s - 4ms/step - loss: 57.5624 - val_loss: 118.2133\n",
      "Epoch 68/100\n",
      "23/23 - 0s - 5ms/step - loss: 55.6186 - val_loss: 116.5054\n",
      "Epoch 69/100\n",
      "23/23 - 0s - 4ms/step - loss: 54.4494 - val_loss: 125.6171\n",
      "Epoch 70/100\n",
      "23/23 - 0s - 4ms/step - loss: 52.6824 - val_loss: 115.6817\n",
      "Epoch 71/100\n",
      "23/23 - 0s - 4ms/step - loss: 51.3809 - val_loss: 117.7013\n",
      "Epoch 72/100\n",
      "23/23 - 0s - 4ms/step - loss: 50.4003 - val_loss: 108.2132\n",
      "Epoch 73/100\n",
      "23/23 - 0s - 4ms/step - loss: 49.9856 - val_loss: 125.1803\n",
      "Epoch 74/100\n",
      "23/23 - 0s - 4ms/step - loss: 48.0732 - val_loss: 106.7004\n",
      "Epoch 75/100\n",
      "23/23 - 0s - 4ms/step - loss: 47.4761 - val_loss: 111.9328\n",
      "Epoch 76/100\n",
      "23/23 - 0s - 4ms/step - loss: 46.5539 - val_loss: 105.3834\n",
      "Epoch 77/100\n",
      "23/23 - 0s - 4ms/step - loss: 45.4183 - val_loss: 112.0292\n",
      "Epoch 78/100\n",
      "23/23 - 0s - 4ms/step - loss: 44.4820 - val_loss: 115.8899\n",
      "Epoch 79/100\n",
      "23/23 - 0s - 4ms/step - loss: 43.3249 - val_loss: 106.9750\n",
      "Epoch 80/100\n",
      "23/23 - 0s - 4ms/step - loss: 41.9498 - val_loss: 118.1244\n",
      "Epoch 81/100\n",
      "23/23 - 0s - 4ms/step - loss: 41.6854 - val_loss: 106.3099\n",
      "Epoch 82/100\n",
      "23/23 - 0s - 4ms/step - loss: 40.5721 - val_loss: 115.0428\n",
      "Epoch 83/100\n",
      "23/23 - 0s - 4ms/step - loss: 40.0056 - val_loss: 104.9242\n",
      "Epoch 84/100\n",
      "23/23 - 0s - 4ms/step - loss: 39.0966 - val_loss: 118.2022\n",
      "Epoch 85/100\n",
      "23/23 - 0s - 4ms/step - loss: 38.7295 - val_loss: 107.9561\n",
      "Epoch 86/100\n",
      "23/23 - 0s - 4ms/step - loss: 38.0952 - val_loss: 119.2356\n",
      "Epoch 87/100\n",
      "23/23 - 0s - 4ms/step - loss: 37.5019 - val_loss: 111.0364\n",
      "Epoch 88/100\n",
      "23/23 - 0s - 6ms/step - loss: 37.6970 - val_loss: 109.8522\n",
      "Epoch 89/100\n",
      "23/23 - 0s - 5ms/step - loss: 36.6202 - val_loss: 115.5033\n",
      "Epoch 90/100\n",
      "23/23 - 0s - 4ms/step - loss: 36.3570 - val_loss: 110.1889\n",
      "Epoch 91/100\n",
      "23/23 - 0s - 6ms/step - loss: 35.4444 - val_loss: 112.7783\n",
      "Epoch 92/100\n",
      "23/23 - 0s - 5ms/step - loss: 35.1394 - val_loss: 112.2672\n",
      "Epoch 93/100\n",
      "23/23 - 0s - 6ms/step - loss: 34.5150 - val_loss: 109.9833\n",
      "Epoch 94/100\n",
      "23/23 - 0s - 4ms/step - loss: 34.6857 - val_loss: 108.2169\n",
      "Epoch 95/100\n",
      "23/23 - 0s - 4ms/step - loss: 34.1622 - val_loss: 109.5823\n",
      "Epoch 96/100\n",
      "23/23 - 0s - 4ms/step - loss: 33.2944 - val_loss: 115.5030\n",
      "Epoch 97/100\n",
      "23/23 - 0s - 4ms/step - loss: 32.8692 - val_loss: 116.8722\n",
      "Epoch 98/100\n",
      "23/23 - 0s - 4ms/step - loss: 33.0528 - val_loss: 109.1246\n",
      "Epoch 99/100\n",
      "23/23 - 0s - 4ms/step - loss: 33.5953 - val_loss: 108.9159\n",
      "Epoch 100/100\n",
      "23/23 - 0s - 4ms/step - loss: 32.8136 - val_loss: 104.9324\n"
     ]
    },
    {
     "data": {
      "text/plain": [
       "<keras.src.callbacks.history.History at 0x25d391da3d0>"
      ]
     },
     "execution_count": 16,
     "metadata": {},
     "output_type": "execute_result"
    }
   ],
   "source": [
    "# fit the model\n",
    "model.fit(predictors_norm, target, validation_split=0.3, epochs=100, verbose=2)"
   ]
  },
  {
   "cell_type": "markdown",
   "metadata": {},
   "source": [
    "<h3>Practice Exercise 1</h3>\n"
   ]
  },
  {
   "cell_type": "markdown",
   "metadata": {},
   "source": [
    "Now using the same dateset,try to recreate regression model featuring five hidden layers, each with 50 nodes and ReLU activation functions, a single output layer, optimized using the Adam optimizer.\n"
   ]
  },
  {
   "cell_type": "code",
   "execution_count": 17,
   "metadata": {},
   "outputs": [],
   "source": [
    "# Write your code here\n",
    "def regression_model():\n",
    "    input_colm = predictors_norm.shape[1]\n",
    "    model= Sequential()\n",
    "    model.add(Input(shape=(input_colm,)))  # Set the number of input features \n",
    "    model.add(Dense(50, activation='relu'))  \n",
    "    model.add(Dense(50, activation='relu'))\n",
    "    model.add(Dense(50, activation='relu')) \n",
    "    model.add(Dense(50, activation='relu'))\n",
    "    model.add(Dense(50, activation='relu'))  \n",
    "    model.add(Dense(1))\n",
    "\n",
    "    model.compile(optimizer='adam', loss='mean_squared_error')\n",
    "    return model"
   ]
  },
  {
   "cell_type": "markdown",
   "metadata": {},
   "source": [
    "<h3>Practice Exercise 2</h3>\n"
   ]
  },
  {
   "cell_type": "markdown",
   "metadata": {},
   "source": [
    " Train and evaluate the model simultaneously using the fit() method by reserving 10% of the data for validation and training the model for 100 epochs\n"
   ]
  },
  {
   "cell_type": "code",
   "execution_count": 18,
   "metadata": {},
   "outputs": [
    {
     "name": "stdout",
     "output_type": "stream",
     "text": [
      "Epoch 1/100\n",
      "29/29 - 2s - 52ms/step - loss: 1511.0739 - val_loss: 958.9972\n",
      "Epoch 2/100\n",
      "29/29 - 0s - 4ms/step - loss: 622.6552 - val_loss: 214.6895\n",
      "Epoch 3/100\n",
      "29/29 - 0s - 4ms/step - loss: 238.8044 - val_loss: 187.4466\n",
      "Epoch 4/100\n",
      "29/29 - 0s - 4ms/step - loss: 201.4860 - val_loss: 173.1494\n",
      "Epoch 5/100\n",
      "29/29 - 0s - 4ms/step - loss: 180.5454 - val_loss: 155.3888\n",
      "Epoch 6/100\n",
      "29/29 - 0s - 4ms/step - loss: 160.8268 - val_loss: 142.2212\n",
      "Epoch 7/100\n",
      "29/29 - 0s - 4ms/step - loss: 143.0801 - val_loss: 125.9547\n",
      "Epoch 8/100\n",
      "29/29 - 0s - 4ms/step - loss: 126.9515 - val_loss: 109.0530\n",
      "Epoch 9/100\n",
      "29/29 - 0s - 4ms/step - loss: 113.0126 - val_loss: 99.3061\n",
      "Epoch 10/100\n",
      "29/29 - 0s - 4ms/step - loss: 96.2981 - val_loss: 82.8429\n",
      "Epoch 11/100\n",
      "29/29 - 0s - 4ms/step - loss: 85.2583 - val_loss: 72.9809\n",
      "Epoch 12/100\n",
      "29/29 - 0s - 4ms/step - loss: 76.8494 - val_loss: 64.8190\n",
      "Epoch 13/100\n",
      "29/29 - 0s - 4ms/step - loss: 66.0135 - val_loss: 58.0288\n",
      "Epoch 14/100\n",
      "29/29 - 0s - 4ms/step - loss: 60.1385 - val_loss: 51.6022\n",
      "Epoch 15/100\n",
      "29/29 - 0s - 4ms/step - loss: 53.5058 - val_loss: 36.2947\n",
      "Epoch 16/100\n",
      "29/29 - 0s - 4ms/step - loss: 50.4851 - val_loss: 40.3740\n",
      "Epoch 17/100\n",
      "29/29 - 0s - 4ms/step - loss: 48.1584 - val_loss: 39.0769\n",
      "Epoch 18/100\n",
      "29/29 - 0s - 4ms/step - loss: 44.4299 - val_loss: 34.9823\n",
      "Epoch 19/100\n",
      "29/29 - 0s - 4ms/step - loss: 42.7985 - val_loss: 34.0480\n",
      "Epoch 20/100\n",
      "29/29 - 0s - 4ms/step - loss: 39.4931 - val_loss: 27.9586\n",
      "Epoch 21/100\n",
      "29/29 - 0s - 4ms/step - loss: 38.2125 - val_loss: 26.0863\n",
      "Epoch 22/100\n",
      "29/29 - 0s - 4ms/step - loss: 37.2027 - val_loss: 26.3862\n",
      "Epoch 23/100\n",
      "29/29 - 0s - 4ms/step - loss: 33.4579 - val_loss: 24.8023\n",
      "Epoch 24/100\n",
      "29/29 - 0s - 4ms/step - loss: 34.3948 - val_loss: 25.8804\n",
      "Epoch 25/100\n",
      "29/29 - 0s - 3ms/step - loss: 35.6263 - val_loss: 27.5464\n",
      "Epoch 26/100\n",
      "29/29 - 0s - 4ms/step - loss: 29.9812 - val_loss: 28.5599\n",
      "Epoch 27/100\n",
      "29/29 - 0s - 3ms/step - loss: 30.7421 - val_loss: 26.1812\n",
      "Epoch 28/100\n",
      "29/29 - 0s - 4ms/step - loss: 28.3541 - val_loss: 24.8021\n",
      "Epoch 29/100\n",
      "29/29 - 0s - 3ms/step - loss: 28.7748 - val_loss: 23.1504\n",
      "Epoch 30/100\n",
      "29/29 - 0s - 4ms/step - loss: 27.4111 - val_loss: 22.9659\n",
      "Epoch 31/100\n",
      "29/29 - 0s - 4ms/step - loss: 26.9026 - val_loss: 22.8006\n",
      "Epoch 32/100\n",
      "29/29 - 0s - 4ms/step - loss: 24.6164 - val_loss: 22.4476\n",
      "Epoch 33/100\n",
      "29/29 - 0s - 4ms/step - loss: 24.8596 - val_loss: 23.2927\n",
      "Epoch 34/100\n",
      "29/29 - 0s - 4ms/step - loss: 23.4821 - val_loss: 23.0057\n",
      "Epoch 35/100\n",
      "29/29 - 0s - 4ms/step - loss: 22.7268 - val_loss: 21.4334\n",
      "Epoch 36/100\n",
      "29/29 - 0s - 4ms/step - loss: 22.6420 - val_loss: 23.5840\n",
      "Epoch 37/100\n",
      "29/29 - 0s - 4ms/step - loss: 22.5929 - val_loss: 20.9802\n",
      "Epoch 38/100\n",
      "29/29 - 0s - 3ms/step - loss: 22.7466 - val_loss: 20.9554\n",
      "Epoch 39/100\n",
      "29/29 - 0s - 4ms/step - loss: 22.0373 - val_loss: 22.1800\n",
      "Epoch 40/100\n",
      "29/29 - 0s - 4ms/step - loss: 21.4589 - val_loss: 21.5644\n",
      "Epoch 41/100\n",
      "29/29 - 0s - 4ms/step - loss: 21.1703 - val_loss: 20.8461\n",
      "Epoch 42/100\n",
      "29/29 - 0s - 4ms/step - loss: 20.4325 - val_loss: 20.5255\n",
      "Epoch 43/100\n",
      "29/29 - 0s - 4ms/step - loss: 20.2457 - val_loss: 20.7831\n",
      "Epoch 44/100\n",
      "29/29 - 0s - 4ms/step - loss: 19.6383 - val_loss: 20.0553\n",
      "Epoch 45/100\n",
      "29/29 - 0s - 4ms/step - loss: 19.3703 - val_loss: 19.7923\n",
      "Epoch 46/100\n",
      "29/29 - 0s - 4ms/step - loss: 19.3109 - val_loss: 19.8620\n",
      "Epoch 47/100\n",
      "29/29 - 0s - 4ms/step - loss: 18.6808 - val_loss: 19.6045\n",
      "Epoch 48/100\n",
      "29/29 - 0s - 4ms/step - loss: 17.8772 - val_loss: 22.0160\n",
      "Epoch 49/100\n",
      "29/29 - 0s - 4ms/step - loss: 18.4482 - val_loss: 19.1320\n",
      "Epoch 50/100\n",
      "29/29 - 0s - 4ms/step - loss: 19.2803 - val_loss: 19.1056\n",
      "Epoch 51/100\n",
      "29/29 - 0s - 4ms/step - loss: 17.7692 - val_loss: 18.8616\n",
      "Epoch 52/100\n",
      "29/29 - 0s - 4ms/step - loss: 18.2307 - val_loss: 23.3735\n",
      "Epoch 53/100\n",
      "29/29 - 0s - 4ms/step - loss: 18.1869 - val_loss: 19.1364\n",
      "Epoch 54/100\n",
      "29/29 - 0s - 4ms/step - loss: 17.9760 - val_loss: 18.7392\n",
      "Epoch 55/100\n",
      "29/29 - 0s - 4ms/step - loss: 19.1397 - val_loss: 21.2512\n",
      "Epoch 56/100\n",
      "29/29 - 0s - 4ms/step - loss: 17.4626 - val_loss: 22.2653\n",
      "Epoch 57/100\n",
      "29/29 - 0s - 4ms/step - loss: 16.7103 - val_loss: 17.3550\n",
      "Epoch 58/100\n",
      "29/29 - 0s - 4ms/step - loss: 17.7125 - val_loss: 17.4017\n",
      "Epoch 59/100\n",
      "29/29 - 0s - 4ms/step - loss: 16.5856 - val_loss: 17.9453\n",
      "Epoch 60/100\n",
      "29/29 - 0s - 3ms/step - loss: 17.1258 - val_loss: 18.8563\n",
      "Epoch 61/100\n",
      "29/29 - 0s - 4ms/step - loss: 17.8865 - val_loss: 17.6781\n",
      "Epoch 62/100\n",
      "29/29 - 0s - 4ms/step - loss: 16.5124 - val_loss: 16.9347\n",
      "Epoch 63/100\n",
      "29/29 - 0s - 4ms/step - loss: 15.2797 - val_loss: 16.9326\n",
      "Epoch 64/100\n",
      "29/29 - 0s - 4ms/step - loss: 15.4005 - val_loss: 17.2308\n",
      "Epoch 65/100\n",
      "29/29 - 0s - 4ms/step - loss: 15.4856 - val_loss: 16.6831\n",
      "Epoch 66/100\n",
      "29/29 - 0s - 4ms/step - loss: 16.6658 - val_loss: 16.1934\n",
      "Epoch 67/100\n",
      "29/29 - 0s - 4ms/step - loss: 14.8817 - val_loss: 16.7053\n",
      "Epoch 68/100\n",
      "29/29 - 0s - 4ms/step - loss: 14.7591 - val_loss: 18.3266\n",
      "Epoch 69/100\n",
      "29/29 - 0s - 4ms/step - loss: 16.1468 - val_loss: 18.4534\n",
      "Epoch 70/100\n",
      "29/29 - 0s - 4ms/step - loss: 15.5212 - val_loss: 16.6685\n",
      "Epoch 71/100\n",
      "29/29 - 0s - 4ms/step - loss: 16.0564 - val_loss: 16.3541\n",
      "Epoch 72/100\n",
      "29/29 - 0s - 3ms/step - loss: 13.9740 - val_loss: 15.5893\n",
      "Epoch 73/100\n",
      "29/29 - 0s - 4ms/step - loss: 15.0390 - val_loss: 14.8883\n",
      "Epoch 74/100\n",
      "29/29 - 0s - 4ms/step - loss: 14.5955 - val_loss: 14.7247\n",
      "Epoch 75/100\n",
      "29/29 - 0s - 4ms/step - loss: 13.9149 - val_loss: 15.1912\n",
      "Epoch 76/100\n",
      "29/29 - 0s - 4ms/step - loss: 15.1576 - val_loss: 15.2077\n",
      "Epoch 77/100\n",
      "29/29 - 0s - 4ms/step - loss: 14.2275 - val_loss: 15.8177\n",
      "Epoch 78/100\n",
      "29/29 - 0s - 4ms/step - loss: 15.2196 - val_loss: 15.1752\n",
      "Epoch 79/100\n",
      "29/29 - 0s - 3ms/step - loss: 14.3329 - val_loss: 14.2024\n",
      "Epoch 80/100\n",
      "29/29 - 0s - 4ms/step - loss: 14.2891 - val_loss: 15.1121\n",
      "Epoch 81/100\n",
      "29/29 - 0s - 4ms/step - loss: 14.9041 - val_loss: 15.7504\n",
      "Epoch 82/100\n",
      "29/29 - 0s - 4ms/step - loss: 15.3672 - val_loss: 24.7964\n",
      "Epoch 83/100\n",
      "29/29 - 0s - 4ms/step - loss: 14.6169 - val_loss: 14.1520\n",
      "Epoch 84/100\n",
      "29/29 - 0s - 4ms/step - loss: 14.5262 - val_loss: 14.7766\n",
      "Epoch 85/100\n",
      "29/29 - 0s - 4ms/step - loss: 13.9249 - val_loss: 14.8858\n",
      "Epoch 86/100\n",
      "29/29 - 0s - 4ms/step - loss: 13.1768 - val_loss: 14.0735\n",
      "Epoch 87/100\n",
      "29/29 - 0s - 4ms/step - loss: 12.9508 - val_loss: 14.0020\n",
      "Epoch 88/100\n",
      "29/29 - 0s - 4ms/step - loss: 13.2135 - val_loss: 14.3432\n",
      "Epoch 89/100\n",
      "29/29 - 0s - 3ms/step - loss: 14.3071 - val_loss: 13.9533\n",
      "Epoch 90/100\n",
      "29/29 - 0s - 4ms/step - loss: 14.0056 - val_loss: 14.2154\n",
      "Epoch 91/100\n",
      "29/29 - 0s - 6ms/step - loss: 14.5163 - val_loss: 19.2680\n",
      "Epoch 92/100\n",
      "29/29 - 0s - 4ms/step - loss: 13.0988 - val_loss: 15.4186\n",
      "Epoch 93/100\n",
      "29/29 - 0s - 4ms/step - loss: 13.0018 - val_loss: 18.2845\n",
      "Epoch 94/100\n",
      "29/29 - 0s - 4ms/step - loss: 13.1459 - val_loss: 13.0760\n",
      "Epoch 95/100\n",
      "29/29 - 0s - 4ms/step - loss: 13.0252 - val_loss: 16.4252\n",
      "Epoch 96/100\n",
      "29/29 - 0s - 4ms/step - loss: 12.5463 - val_loss: 15.4047\n",
      "Epoch 97/100\n",
      "29/29 - 0s - 4ms/step - loss: 13.4823 - val_loss: 14.9684\n",
      "Epoch 98/100\n",
      "29/29 - 0s - 4ms/step - loss: 13.5556 - val_loss: 19.4193\n",
      "Epoch 99/100\n",
      "29/29 - 0s - 4ms/step - loss: 12.9041 - val_loss: 12.9706\n",
      "Epoch 100/100\n",
      "29/29 - 0s - 4ms/step - loss: 13.2526 - val_loss: 13.4240\n"
     ]
    },
    {
     "data": {
      "text/plain": [
       "<keras.src.callbacks.history.History at 0x25d3b96a7d0>"
      ]
     },
     "execution_count": 18,
     "metadata": {},
     "output_type": "execute_result"
    }
   ],
   "source": [
    "# Write your code here\n",
    "model = regression_model()\n",
    "model.fit(predictors_norm, target, validation_split=0.1, epochs=100, verbose=2)"
   ]
  },
  {
   "cell_type": "markdown",
   "metadata": {},
   "source": [
    "Based on the results, we notice that:\n",
    "\n",
    "- Adding more hidden layers to the model increases its capacity to learn and represent complex relationships within the data. This allows the model to better identify, as a result, the model becomes more effective at fitting the training data and potentially improving its predictions.\n",
    "- By reducing the proportion of data set aside for validation and using a larger portion for training, the model has access to more examples to learn from. This additional training data helps the model improve its understanding of the underlying trends, which can lead to better overall performance.  \n"
   ]
  },
  {
   "cell_type": "markdown",
   "metadata": {},
   "source": [
    "<!--\n",
    "## Change Log\n",
    "\n",
    "|  Date (YYYY-MM-DD) |  Version | Changed By  |  Change Description |\n",
    "|---|---|---|---|\n",
    "| 2024-11-20  | 3.0  | Aman  |  Updated the library versions to current |\n",
    "| 2020-09-21  | 2.0  | Srishti  |  Migrated Lab to Markdown and added to course repo in GitLab |\n",
    "\n",
    "\n",
    "\n",
    "<hr>\n",
    "\n",
    "## <h3 align=\"center\"> © IBM Corporation. All rights reserved. <h3/>\n"
   ]
  }
 ],
 "metadata": {
  "kernelspec": {
   "display_name": ".env",
   "language": "python",
   "name": "python3"
  },
  "language_info": {
   "codemirror_mode": {
    "name": "ipython",
    "version": 3
   },
   "file_extension": ".py",
   "mimetype": "text/x-python",
   "name": "python",
   "nbconvert_exporter": "python",
   "pygments_lexer": "ipython3",
   "version": "3.11.7"
  },
  "prev_pub_hash": "1318243f5c57a871ada11a63a887b187b71b9e224c59cc45cb9fac7ca19844fc"
 },
 "nbformat": 4,
 "nbformat_minor": 4
}
