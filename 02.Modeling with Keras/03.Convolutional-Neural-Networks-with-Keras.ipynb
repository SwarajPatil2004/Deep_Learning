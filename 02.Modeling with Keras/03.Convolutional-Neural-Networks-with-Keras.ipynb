{
 "cells": [
  {
   "cell_type": "markdown",
   "id": "6a259076-5a31-482e-b598-0138c6bfe11a",
   "metadata": {},
   "source": [
    "# Convolutional Neural Networks with Keras"
   ]
  },
  {
   "cell_type": "markdown",
   "id": "a7c948e3-995c-45c0-86f0-8916fbee6b02",
   "metadata": {},
   "source": [
    "## Objectives for this Notebook    \n",
    "* How to use the Keras library to build convolutional neural networks\n",
    "* Convolutional neural network with one set of convolutional and pooling layers\n",
    "* Convolutional neural network with two sets of convolutional and pooling layers\n",
    "\n"
   ]
  },
  {
   "cell_type": "markdown",
   "id": "82e267c1-74e4-4f30-be50-15b58d592add",
   "metadata": {},
   "source": [
    "## Table of Contents\n",
    "      \n",
    "1. <a href=\"#Import-Keras-and-Packages\">Import Keras and Packages</a>   \n",
    "2. <a href=\"#Convolutional-Neural-Network-with-One-Set-of-Convolutional-and-Pooling-Layers\">Convolutional Neural Network with One Set of Convolutional and Pooling Layers</a>  \n",
    "3. <a href=\"#Convolutional-Neural-Network-with-Two-Sets-of-Convolutional-and-Pooling-Layers\">Convolutional Neural Network with Two Sets of Convolutional and Pooling Layers</a>  \n"
   ]
  },
  {
   "cell_type": "markdown",
   "id": "df48ab35-3ce3-4d73-9e9f-142c1c272773",
   "metadata": {},
   "source": [
    "#### Suppress the tensorflow warning messages\n",
    "We use the following code to  suppress the warning messages due to use of CPU architechture for tensoflow.\n",
    "You may want to **comment out** these lines if you are using the GPU architechture\n"
   ]
  },
  {
   "cell_type": "code",
   "execution_count": 1,
   "id": "c4d79a7c-6cbc-4b7c-8f6e-23c4d3dbec4f",
   "metadata": {},
   "outputs": [],
   "source": [
    "import os\n",
    "os.environ['TF_ENABLE_ONEDNN_OPTS'] = '0'\n",
    "os.environ['TF_CPP_MIN_LOG_LEVEL'] = '2'"
   ]
  },
  {
   "cell_type": "markdown",
   "id": "c8cb5959-7529-4024-aabe-711e02b1a573",
   "metadata": {},
   "source": [
    "## Import Keras and Packages\n"
   ]
  },
  {
   "cell_type": "code",
   "execution_count": 2,
   "id": "54f7f5de-dd4f-4160-97a7-41fc13358596",
   "metadata": {},
   "outputs": [],
   "source": [
    "import keras\n",
    "from keras.models import Sequential\n",
    "from keras.layers import Dense, Input\n",
    "from keras.utils import to_categorical"
   ]
  },
  {
   "cell_type": "markdown",
   "id": "6ae6ee1f-c5f9-4136-a661-d0ecad7bc618",
   "metadata": {},
   "source": [
    "When working with convolutional neural networks in particular, we will need additional packages.\n"
   ]
  },
  {
   "cell_type": "code",
   "execution_count": 3,
   "id": "59965020-f741-41d0-8b70-00253641ff4c",
   "metadata": {},
   "outputs": [],
   "source": [
    "from keras.layers import Conv2D, MaxPooling2D, Flatten"
   ]
  },
  {
   "cell_type": "markdown",
   "id": "b4be0cd5-9e2a-44f7-a6de-1fdc46923fb4",
   "metadata": {},
   "source": [
    "## Convolutional Neural Network with One Set of Convolutional and Pooling Layers\n"
   ]
  },
  {
   "cell_type": "code",
   "execution_count": 4,
   "id": "21cd5320-20a6-4e90-89be-81af7990a4c5",
   "metadata": {},
   "outputs": [],
   "source": [
    "from keras.datasets import mnist\n",
    "\n",
    "(X_train, y_train), (X_test, y_test)= mnist.load_data()\n",
    "\n",
    "X_train= X_train.reshape(X_train.shape[0], 28, 28, 1).astype('float32')\n",
    "X_test= X_test.reshape(X_test.shape[0], 28, 28, 1).astype('float32')"
   ]
  },
  {
   "cell_type": "markdown",
   "id": "82a804cb-2ea6-4925-94a1-ef4ba5a2ef1d",
   "metadata": {},
   "source": [
    "Let's normalize the pixel values to be between 0 and 1\n"
   ]
  },
  {
   "cell_type": "code",
   "execution_count": 5,
   "id": "26b2fc47-fbfb-42ce-bfe7-d1cda99d4988",
   "metadata": {},
   "outputs": [],
   "source": [
    "X_train = X_train / 255 # normalize training data\n",
    "X_test = X_test / 255 # normalize test data"
   ]
  },
  {
   "cell_type": "markdown",
   "id": "58622fd9-b0ff-408c-baf5-4db94f8a0a97",
   "metadata": {},
   "source": [
    "Next, let's convert the target variable into binary categories\n"
   ]
  },
  {
   "cell_type": "code",
   "execution_count": 6,
   "id": "c01c40ef-75ba-4c87-954a-4f5ecef7b41f",
   "metadata": {},
   "outputs": [
    {
     "data": {
      "text/plain": [
       "10"
      ]
     },
     "execution_count": 6,
     "metadata": {},
     "output_type": "execute_result"
    }
   ],
   "source": [
    "y_train = to_categorical(y_train)\n",
    "y_test = to_categorical(y_test)\n",
    "\n",
    "num_classes = y_test.shape[1] # number of categories\n",
    "num_classes"
   ]
  },
  {
   "cell_type": "markdown",
   "id": "2c42c05a-ae9e-44bc-ab58-5b5c55c6cc43",
   "metadata": {},
   "source": [
    "Next, let's define a function that creates our model. Let's start with one set of convolutional and pooling layers.\n"
   ]
  },
  {
   "cell_type": "code",
   "execution_count": 7,
   "id": "678716df-28c6-4944-872b-2ab253d7ea68",
   "metadata": {},
   "outputs": [],
   "source": [
    "def convolutional_model():\n",
    "    \n",
    "    model = Sequential()\n",
    "    model.add(Input(shape=(28, 28, 1)))\n",
    "    model.add(Conv2D(16, (5, 5), strides=(1, 1), activation='relu'))\n",
    "    model.add(MaxPooling2D(pool_size=(2, 2), strides=(2, 2)))\n",
    "    \n",
    "    model.add(Flatten())\n",
    "    model.add(Dense(100, activation='relu'))\n",
    "    model.add(Dense(num_classes, activation='softmax'))\n",
    "    \n",
    "    model.compile(optimizer='adam', loss='categorical_crossentropy',  metrics=['accuracy'])\n",
    "    return model"
   ]
  },
  {
   "cell_type": "markdown",
   "id": "d94c41fa-0fae-482c-b4f5-0729d31569c2",
   "metadata": {},
   "source": [
    "Finally, let's call the function to create the model, and then let's train it and evaluate it.\n"
   ]
  },
  {
   "cell_type": "code",
   "execution_count": null,
   "id": "095aa859-c641-4d6d-abb6-a1712a64f89b",
   "metadata": {},
   "outputs": [
    {
     "name": "stdout",
     "output_type": "stream",
     "text": [
      "Epoch 1/10\n",
      "300/300 - 5s - 16ms/step - accuracy: 0.9083 - loss: 0.3199 - val_accuracy: 0.9652 - val_loss: 0.1190\n",
      "Epoch 2/10\n",
      "300/300 - 4s - 14ms/step - accuracy: 0.9716 - loss: 0.0993 - val_accuracy: 0.9778 - val_loss: 0.0727\n",
      "Epoch 3/10\n",
      "300/300 - 4s - 14ms/step - accuracy: 0.9818 - loss: 0.0639 - val_accuracy: 0.9830 - val_loss: 0.0522\n",
      "Epoch 4/10\n",
      "300/300 - 4s - 14ms/step - accuracy: 0.9855 - loss: 0.0487 - val_accuracy: 0.9839 - val_loss: 0.0469\n",
      "Epoch 5/10\n",
      "300/300 - 4s - 14ms/step - accuracy: 0.9876 - loss: 0.0400 - val_accuracy: 0.9855 - val_loss: 0.0439\n",
      "Epoch 6/10\n",
      "300/300 - 4s - 14ms/step - accuracy: 0.9899 - loss: 0.0325 - val_accuracy: 0.9836 - val_loss: 0.0467\n",
      "Epoch 7/10\n",
      "300/300 - 4s - 14ms/step - accuracy: 0.9922 - loss: 0.0263 - val_accuracy: 0.9877 - val_loss: 0.0362\n",
      "Epoch 8/10\n",
      "300/300 - 4s - 14ms/step - accuracy: 0.9932 - loss: 0.0225 - val_accuracy: 0.9865 - val_loss: 0.0374\n",
      "Epoch 9/10\n",
      "300/300 - 4s - 14ms/step - accuracy: 0.9945 - loss: 0.0184 - val_accuracy: 0.9879 - val_loss: 0.0365\n",
      "Epoch 10/10\n",
      "300/300 - 4s - 14ms/step - accuracy: 0.9954 - loss: 0.0157 - val_accuracy: 0.9874 - val_loss: 0.0362\n",
      "Accuracy: 0.9873999953269958 \n",
      " Error: 1.260000467300415\n"
     ]
    }
   ],
   "source": [
    "model = convolutional_model()\n",
    "\n",
    "model.fit(X_train, y_train, validation_data=(X_test, y_test), epochs=10, batch_size=200, verbose=2)\n",
    "\n",
    "scores = model.evaluate(X_test, y_test, verbose=0)\n",
    "print(\"Accuracy: {} \\n Error: {}\".format(scores[1], 100-scores[1]*100))"
   ]
  },
  {
   "cell_type": "markdown",
   "id": "bdadb672-3dd5-47c8-b2aa-b573faec12ab",
   "metadata": {},
   "source": [
    "------------------------------------------\n"
   ]
  },
  {
   "cell_type": "markdown",
   "id": "8346bc8d-b06d-4e59-ab6d-38ab51f7e3a2",
   "metadata": {},
   "source": [
    "## Convolutional Neural Network with Two Sets of Convolutional and Pooling Layers\n"
   ]
  },
  {
   "cell_type": "markdown",
   "id": "ed6adec1-b389-4d45-a94b-c3f378106a02",
   "metadata": {},
   "source": [
    "Let's redefine our convolutional model so that it has two convolutional and pooling layers instead of just one layer of each.\n"
   ]
  },
  {
   "cell_type": "code",
   "execution_count": 9,
   "id": "1238bc6e-7594-48f2-b239-83fd36c4838d",
   "metadata": {},
   "outputs": [],
   "source": [
    "def convolutional_model():\n",
    "    \n",
    "    # create model\n",
    "    model = Sequential()\n",
    "    model.add(Input(shape=(28, 28, 1)))\n",
    "    model.add(Conv2D(16, (5, 5), activation='relu'))\n",
    "    model.add(MaxPooling2D(pool_size=(2, 2), strides=(2, 2)))\n",
    "    \n",
    "    model.add(Conv2D(8, (2, 2), activation='relu'))\n",
    "    model.add(MaxPooling2D(pool_size=(2, 2), strides=(2, 2)))\n",
    "    \n",
    "    model.add(Flatten())\n",
    "    model.add(Dense(100, activation='relu'))\n",
    "    model.add(Dense(num_classes, activation='softmax'))\n",
    "    \n",
    "    # Compile model\n",
    "    model.compile(optimizer='adam', loss='categorical_crossentropy',  metrics=['accuracy'])\n",
    "    return model"
   ]
  },
  {
   "cell_type": "markdown",
   "id": "ad1e634f-0a4a-475b-95da-b6e322a83c46",
   "metadata": {},
   "source": [
    "Now, let's call the function to create our new convolutional neural network, and then let's train it and evaluate it.\n"
   ]
  },
  {
   "cell_type": "code",
   "execution_count": 10,
   "id": "3c0465aa-295a-49e7-92bb-050edb59e3df",
   "metadata": {},
   "outputs": [
    {
     "name": "stdout",
     "output_type": "stream",
     "text": [
      "Epoch 1/10\n",
      "300/300 - 5s - 18ms/step - accuracy: 0.8825 - loss: 0.4306 - val_accuracy: 0.9643 - val_loss: 0.1179\n",
      "Epoch 2/10\n",
      "300/300 - 5s - 15ms/step - accuracy: 0.9679 - loss: 0.1082 - val_accuracy: 0.9736 - val_loss: 0.0823\n",
      "Epoch 3/10\n",
      "300/300 - 4s - 15ms/step - accuracy: 0.9768 - loss: 0.0792 - val_accuracy: 0.9815 - val_loss: 0.0623\n",
      "Epoch 4/10\n",
      "300/300 - 4s - 15ms/step - accuracy: 0.9810 - loss: 0.0637 - val_accuracy: 0.9810 - val_loss: 0.0577\n",
      "Epoch 5/10\n",
      "300/300 - 5s - 15ms/step - accuracy: 0.9836 - loss: 0.0565 - val_accuracy: 0.9834 - val_loss: 0.0532\n",
      "Epoch 6/10\n",
      "300/300 - 5s - 15ms/step - accuracy: 0.9853 - loss: 0.0482 - val_accuracy: 0.9842 - val_loss: 0.0503\n",
      "Epoch 7/10\n",
      "300/300 - 4s - 15ms/step - accuracy: 0.9863 - loss: 0.0443 - val_accuracy: 0.9867 - val_loss: 0.0419\n",
      "Epoch 8/10\n",
      "300/300 - 4s - 15ms/step - accuracy: 0.9882 - loss: 0.0384 - val_accuracy: 0.9874 - val_loss: 0.0399\n",
      "Epoch 9/10\n",
      "300/300 - 5s - 15ms/step - accuracy: 0.9890 - loss: 0.0363 - val_accuracy: 0.9845 - val_loss: 0.0447\n",
      "Epoch 10/10\n",
      "300/300 - 4s - 15ms/step - accuracy: 0.9902 - loss: 0.0328 - val_accuracy: 0.9873 - val_loss: 0.0400\n",
      "Accuracy: 0.9872999787330627 \n",
      " Error: 1.2700021266937256\n"
     ]
    }
   ],
   "source": [
    "# build the model\n",
    "model = convolutional_model()\n",
    "\n",
    "# fit the model\n",
    "model.fit(X_train, y_train, validation_data=(X_test, y_test), epochs=10, batch_size=200, verbose=2)\n",
    "\n",
    "# evaluate the model\n",
    "scores = model.evaluate(X_test, y_test, verbose=0)\n",
    "print(\"Accuracy: {} \\n Error: {}\".format(scores[1], 100-scores[1]*100))"
   ]
  },
  {
   "cell_type": "markdown",
   "id": "1461351b-e85e-431a-94f7-7a803ad091f0",
   "metadata": {},
   "source": [
    "<h3>Practice Exercise 1</h3>\n"
   ]
  },
  {
   "cell_type": "markdown",
   "id": "b552fc94-0831-4569-bc0e-c5b9b153b70d",
   "metadata": {},
   "source": [
    "Let's see how batch size affects the time required and accuracy of the model training. \n",
    "For this, you can try to change batch_size to 1024 and check it's effect on accuracy\n"
   ]
  },
  {
   "cell_type": "code",
   "execution_count": 11,
   "id": "f01355d9-0484-4b16-8419-fd6e64640806",
   "metadata": {},
   "outputs": [
    {
     "name": "stdout",
     "output_type": "stream",
     "text": [
      "Epoch 1/10\n",
      "59/59 - 5s - 80ms/step - accuracy: 0.6388 - loss: 1.2527 - val_accuracy: 0.8792 - val_loss: 0.4083\n",
      "Epoch 2/10\n",
      "59/59 - 4s - 62ms/step - accuracy: 0.9057 - loss: 0.3171 - val_accuracy: 0.9349 - val_loss: 0.2214\n",
      "Epoch 3/10\n",
      "59/59 - 4s - 62ms/step - accuracy: 0.9419 - loss: 0.1986 - val_accuracy: 0.9533 - val_loss: 0.1531\n",
      "Epoch 4/10\n",
      "59/59 - 4s - 62ms/step - accuracy: 0.9553 - loss: 0.1502 - val_accuracy: 0.9623 - val_loss: 0.1240\n",
      "Epoch 5/10\n",
      "59/59 - 4s - 62ms/step - accuracy: 0.9630 - loss: 0.1238 - val_accuracy: 0.9669 - val_loss: 0.1076\n",
      "Epoch 6/10\n",
      "59/59 - 4s - 62ms/step - accuracy: 0.9675 - loss: 0.1081 - val_accuracy: 0.9722 - val_loss: 0.0928\n",
      "Epoch 7/10\n",
      "59/59 - 4s - 62ms/step - accuracy: 0.9708 - loss: 0.0959 - val_accuracy: 0.9728 - val_loss: 0.0840\n",
      "Epoch 8/10\n",
      "59/59 - 4s - 63ms/step - accuracy: 0.9736 - loss: 0.0876 - val_accuracy: 0.9773 - val_loss: 0.0751\n",
      "Epoch 9/10\n",
      "59/59 - 4s - 61ms/step - accuracy: 0.9754 - loss: 0.0811 - val_accuracy: 0.9785 - val_loss: 0.0713\n",
      "Epoch 10/10\n",
      "59/59 - 4s - 60ms/step - accuracy: 0.9776 - loss: 0.0744 - val_accuracy: 0.9791 - val_loss: 0.0684\n",
      "Accuracy: 0.9790999889373779 \n",
      " Error: 2.090001106262207\n"
     ]
    }
   ],
   "source": [
    "model = convolutional_model()\n",
    "model.fit(X_train, y_train, validation_data=(X_test, y_test), epochs=10, batch_size=1024, verbose=2)\n",
    "\n",
    "scores = model.evaluate(X_test, y_test, verbose=0)\n",
    "print(\"Accuracy: {} \\n Error: {}\".format(scores[1], 100-scores[1]*100))"
   ]
  },
  {
   "cell_type": "markdown",
   "id": "2a03ad9b-825d-47ae-be77-e3bf1885c08e",
   "metadata": {},
   "source": [
    "<h3>Practice Exercise 2</h3>\n"
   ]
  },
  {
   "cell_type": "markdown",
   "id": "5989a3e9-0d9c-4769-a33d-fc22447a82bd",
   "metadata": {},
   "source": [
    "Now, let's see how number of epochs  affect the time required and accuracy of the model training. \n",
    "For this, you can keep the batch_size=1024 and epochs=25 and check it's effect on accuracy\n"
   ]
  },
  {
   "cell_type": "code",
   "execution_count": 12,
   "id": "f9e95cec-0929-4e21-82f2-88b829c59460",
   "metadata": {},
   "outputs": [
    {
     "name": "stdout",
     "output_type": "stream",
     "text": [
      "Epoch 1/25\n",
      "59/59 - 4s - 73ms/step - accuracy: 0.6735 - loss: 1.2213 - val_accuracy: 0.8850 - val_loss: 0.3933\n",
      "Epoch 2/25\n",
      "59/59 - 4s - 62ms/step - accuracy: 0.9106 - loss: 0.3087 - val_accuracy: 0.9379 - val_loss: 0.2181\n",
      "Epoch 3/25\n",
      "59/59 - 4s - 63ms/step - accuracy: 0.9431 - loss: 0.1967 - val_accuracy: 0.9561 - val_loss: 0.1558\n",
      "Epoch 4/25\n",
      "59/59 - 4s - 63ms/step - accuracy: 0.9574 - loss: 0.1464 - val_accuracy: 0.9643 - val_loss: 0.1219\n",
      "Epoch 5/25\n",
      "59/59 - 4s - 62ms/step - accuracy: 0.9664 - loss: 0.1163 - val_accuracy: 0.9702 - val_loss: 0.1002\n",
      "Epoch 6/25\n",
      "59/59 - 4s - 62ms/step - accuracy: 0.9711 - loss: 0.0994 - val_accuracy: 0.9734 - val_loss: 0.0857\n",
      "Epoch 7/25\n",
      "59/59 - 4s - 62ms/step - accuracy: 0.9735 - loss: 0.0883 - val_accuracy: 0.9758 - val_loss: 0.0770\n",
      "Epoch 8/25\n",
      "59/59 - 4s - 62ms/step - accuracy: 0.9765 - loss: 0.0795 - val_accuracy: 0.9781 - val_loss: 0.0698\n",
      "Epoch 9/25\n",
      "59/59 - 4s - 62ms/step - accuracy: 0.9780 - loss: 0.0733 - val_accuracy: 0.9802 - val_loss: 0.0611\n",
      "Epoch 10/25\n",
      "59/59 - 4s - 60ms/step - accuracy: 0.9800 - loss: 0.0673 - val_accuracy: 0.9811 - val_loss: 0.0612\n",
      "Epoch 11/25\n",
      "59/59 - 4s - 60ms/step - accuracy: 0.9816 - loss: 0.0610 - val_accuracy: 0.9807 - val_loss: 0.0569\n",
      "Epoch 12/25\n",
      "59/59 - 4s - 61ms/step - accuracy: 0.9818 - loss: 0.0602 - val_accuracy: 0.9821 - val_loss: 0.0556\n",
      "Epoch 13/25\n",
      "59/59 - 4s - 61ms/step - accuracy: 0.9839 - loss: 0.0541 - val_accuracy: 0.9814 - val_loss: 0.0534\n",
      "Epoch 14/25\n",
      "59/59 - 4s - 62ms/step - accuracy: 0.9842 - loss: 0.0523 - val_accuracy: 0.9851 - val_loss: 0.0463\n",
      "Epoch 15/25\n",
      "59/59 - 4s - 61ms/step - accuracy: 0.9858 - loss: 0.0482 - val_accuracy: 0.9852 - val_loss: 0.0448\n",
      "Epoch 16/25\n",
      "59/59 - 4s - 61ms/step - accuracy: 0.9864 - loss: 0.0452 - val_accuracy: 0.9843 - val_loss: 0.0491\n",
      "Epoch 17/25\n",
      "59/59 - 4s - 61ms/step - accuracy: 0.9866 - loss: 0.0449 - val_accuracy: 0.9853 - val_loss: 0.0456\n",
      "Epoch 18/25\n",
      "59/59 - 4s - 62ms/step - accuracy: 0.9871 - loss: 0.0433 - val_accuracy: 0.9857 - val_loss: 0.0440\n",
      "Epoch 19/25\n",
      "59/59 - 4s - 61ms/step - accuracy: 0.9881 - loss: 0.0399 - val_accuracy: 0.9861 - val_loss: 0.0418\n",
      "Epoch 20/25\n",
      "59/59 - 4s - 62ms/step - accuracy: 0.9880 - loss: 0.0389 - val_accuracy: 0.9870 - val_loss: 0.0388\n",
      "Epoch 21/25\n",
      "59/59 - 4s - 62ms/step - accuracy: 0.9880 - loss: 0.0387 - val_accuracy: 0.9850 - val_loss: 0.0435\n",
      "Epoch 22/25\n",
      "59/59 - 4s - 62ms/step - accuracy: 0.9889 - loss: 0.0363 - val_accuracy: 0.9867 - val_loss: 0.0400\n",
      "Epoch 23/25\n",
      "59/59 - 4s - 62ms/step - accuracy: 0.9896 - loss: 0.0345 - val_accuracy: 0.9872 - val_loss: 0.0407\n",
      "Epoch 24/25\n",
      "59/59 - 4s - 60ms/step - accuracy: 0.9897 - loss: 0.0338 - val_accuracy: 0.9866 - val_loss: 0.0374\n",
      "Epoch 25/25\n",
      "59/59 - 4s - 61ms/step - accuracy: 0.9905 - loss: 0.0321 - val_accuracy: 0.9879 - val_loss: 0.0360\n",
      "Accuracy: 0.9879000186920166 \n",
      " Error: 1.2099981307983398\n"
     ]
    }
   ],
   "source": [
    "model = convolutional_model()\n",
    "\n",
    "model.fit(X_train, y_train, validation_data=(X_test, y_test), epochs=25, batch_size=1024, verbose=2)\n",
    "\n",
    "scores = model.evaluate(X_test, y_test, verbose=0)\n",
    "print(\"Accuracy: {} \\n Error: {}\".format(scores[1], 100-scores[1]*100))"
   ]
  }
 ],
 "metadata": {
  "kernelspec": {
   "display_name": ".env",
   "language": "python",
   "name": "python3"
  },
  "language_info": {
   "codemirror_mode": {
    "name": "ipython",
    "version": 3
   },
   "file_extension": ".py",
   "mimetype": "text/x-python",
   "name": "python",
   "nbconvert_exporter": "python",
   "pygments_lexer": "ipython3",
   "version": "3.11.7"
  },
  "prev_pub_hash": "cf25684b5f40b85f8cce20a89cf822f405779387881f3fd281fbe1317debe407"
 },
 "nbformat": 4,
 "nbformat_minor": 4
}
