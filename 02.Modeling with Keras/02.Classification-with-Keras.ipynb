{
 "cells": [
  {
   "cell_type": "markdown",
   "id": "c7aa2c85-4e2d-4cbf-bdb2-b8758e146341",
   "metadata": {},
   "source": [
    "\n",
    "# Classification Models with Keras"
   ]
  },
  {
   "cell_type": "markdown",
   "id": "d60e2240-e5ce-4f7b-b436-b1126bbc6593",
   "metadata": {},
   "source": [
    "## Introduction\n"
   ]
  },
  {
   "cell_type": "markdown",
   "id": "8557d517-d46f-4aa0-9eaf-be6f58b1a79d",
   "metadata": {},
   "source": [
    "The <strong>MNIST database</strong>, short for Modified National Institute of Standards and Technology database, is a large database of handwritten digits that is commonly used for training various image processing systems. The database is also widely used for training and testing in the field of machine learning.\n",
    "    \n",
    "The MNIST database contains 60,000 training images and 10,000 testing images of digits written by high school students and employees of the United States Census Bureau.\n",
    "\n",
    "Also, this way, you will get to compare how conventional neural networks compare to convolutional neural networks, that we will build in the next module.\n"
   ]
  },
  {
   "cell_type": "markdown",
   "id": "43b909ae-4a8f-4bde-a66b-090afd8151eb",
   "metadata": {},
   "source": [
    "## Objectives for this Notebook    \n",
    "* Use the MNIST database for training various image processing systems\n",
    "* Build a neural network\n",
    "* Train and test the network\n"
   ]
  },
  {
   "cell_type": "markdown",
   "id": "549f5fe3-653b-4e2f-b5fa-0933d7d0b5f0",
   "metadata": {},
   "source": [
    "## Table of Contents\n",
    "1. <a href=\"#Import-Keras-and-Packages\">Import Keras and Packages</a>      \n",
    "2. <a href=\"#Build-a-Neural-Network\">Build a Neural Network</a>     \n",
    "3. <a href=\"#Train-and-Test-the-Network\">Train and Test the Network</a>     "
   ]
  },
  {
   "cell_type": "markdown",
   "id": "e34069b6-a5a9-463b-8d90-a77b16901f15",
   "metadata": {},
   "source": [
    "#### Suppress the tensorflow warning messages\n",
    "We use the following code to  suppress the warning messages due to use of CPU architechture for tensoflow.\n",
    "\n",
    "You may want to **comment out** these lines if you are using the GPU architechture\n"
   ]
  },
  {
   "cell_type": "code",
   "execution_count": 1,
   "id": "4e0382f2-f135-4870-9d71-212e59c9f988",
   "metadata": {},
   "outputs": [],
   "source": [
    "import os\n",
    "os.environ['TF_ENABLE_ONEDNN_OPTS'] = '0'\n",
    "os.environ['TF_CPP_MIN_LOG_LEVEL'] = '2'"
   ]
  },
  {
   "cell_type": "markdown",
   "id": "8b413e7b-7155-4227-8c72-9b22fc7ffd49",
   "metadata": {},
   "source": [
    "## Import Keras and Packages\n"
   ]
  },
  {
   "cell_type": "code",
   "execution_count": 2,
   "metadata": {},
   "outputs": [],
   "source": [
    "import keras\n",
    "from keras.models import Sequential\n",
    "from keras.layers import Dense, Input\n",
    "from keras.utils import to_categorical"
   ]
  },
  {
   "cell_type": "markdown",
   "id": "e4895aa9-8bcb-46e6-a79c-a7a881c670ba",
   "metadata": {},
   "source": [
    "### Import the libraries. \n",
    "There might be some warning messages related to floating point round off errors and lack of GPU and other compiler related options. You can ignore these warnings and proceed.\n"
   ]
  },
  {
   "cell_type": "markdown",
   "id": "19c0174a-5eef-4c5f-8a9c-54c150f90ce2",
   "metadata": {},
   "source": [
    "import keras\n",
    "from keras.models import Sequential\n",
    "from keras.layers import Dense, Input\n",
    "from keras.utils import to_categorical"
   ]
  },
  {
   "cell_type": "markdown",
   "id": "6cf5d38c-7c50-4d4f-a0e3-c6be5a0c9afa",
   "metadata": {},
   "source": [
    "Since we are dealing we images, let's also import the Matplotlib scripting layer in order to view the images.\n"
   ]
  },
  {
   "cell_type": "code",
   "execution_count": 3,
   "id": "958bff1a-07f8-4968-bd16-06ea5897a19b",
   "metadata": {},
   "outputs": [],
   "source": [
    "import matplotlib.pyplot as plt"
   ]
  },
  {
   "cell_type": "markdown",
   "id": "a7fe0e17-5d41-4dfb-8c57-b86293309403",
   "metadata": {},
   "source": [
    "The Keras library conveniently includes the MNIST dataset as part of its API. You can check other datasets within the Keras library [here](https://keras.io/datasets/). \n",
    "\n",
    "So, let's load the MNIST dataset from the Keras library. The dataset is readily divided into a training set and a test set.\n"
   ]
  },
  {
   "cell_type": "code",
   "execution_count": 4,
   "id": "1fb035b3-f6b0-455c-9c43-e7445d3a42d4",
   "metadata": {},
   "outputs": [],
   "source": [
    "from keras.datasets import mnist\n",
    "(X_train, y_train), (X_test, y_test) = mnist.load_data()"
   ]
  },
  {
   "cell_type": "markdown",
   "id": "9cca734f-7ccb-4ec6-9dcc-47462d8db865",
   "metadata": {},
   "source": [
    "Let's confirm the number of images in each set. According to the dataset's documentation, we should have 60000 images in X_train and 10000 images in the X_test.\n"
   ]
  },
  {
   "cell_type": "code",
   "execution_count": 5,
   "id": "85c93f66-dac7-4937-ae8f-2f346e6dd258",
   "metadata": {},
   "outputs": [
    {
     "data": {
      "text/plain": [
       "(60000, 28, 28)"
      ]
     },
     "execution_count": 5,
     "metadata": {},
     "output_type": "execute_result"
    }
   ],
   "source": [
    "X_train.shape"
   ]
  },
  {
   "cell_type": "markdown",
   "id": "61c9c1ec-94a1-4545-9205-133bd8476ee0",
   "metadata": {},
   "source": [
    "The first number in the output tuple is the number of images, and the other two numbers are the size of the images in datset. So, each image is 28 pixels by 28 pixels.\n"
   ]
  },
  {
   "cell_type": "markdown",
   "id": "7c0b2825-42a0-4052-b0d5-5ae02dc5e859",
   "metadata": {},
   "source": [
    "Let's visualize the first image in the training set using Matplotlib's scripting layer.\n"
   ]
  },
  {
   "cell_type": "code",
   "execution_count": 6,
   "id": "755619b2-64e3-416d-922b-8e6b8526d05b",
   "metadata": {},
   "outputs": [
    {
     "data": {
      "text/plain": [
       "<matplotlib.image.AxesImage at 0x1fb64b30990>"
      ]
     },
     "execution_count": 6,
     "metadata": {},
     "output_type": "execute_result"
    },
    {
     "data": {
      "image/png": "[encoded data removed]",
      "text/plain": [
       "<Figure size 640x480 with 1 Axes>"
      ]
     },
     "metadata": {},
     "output_type": "display_data"
    }
   ],
   "source": [
    "plt.imshow(X_train[111])"
   ]
  },
  {
   "cell_type": "markdown",
   "id": "b9f703ea-874d-47dd-9d7a-20c78cc13b36",
   "metadata": {},
   "source": [
    "With conventional neural networks, we cannot feed in the image as input as is. So we need to flatten the images into one-dimensional vectors, each of size 1 x (28 x 28) = 1 x 784.\n"
   ]
  },
  {
   "cell_type": "code",
   "execution_count": 7,
   "id": "f9a137c1-3554-4027-86f0-b1409ba810f4",
   "metadata": {},
   "outputs": [],
   "source": [
    "# flatten images into one-dimensional vector\n",
    "num_pixels= X_train.shape[1]* X_train.shape[2]\n",
    "\n",
    "X_train= X_train.reshape(X_train.shape[0], num_pixels).astype(\"float32\")\n",
    "X_test= X_test.reshape(X_test.shape[0], num_pixels).astype(\"float32\")"
   ]
  },
  {
   "cell_type": "markdown",
   "id": "da865046-1d25-4855-bb8d-3b6bfb15343a",
   "metadata": {},
   "source": [
    "Since pixel values can range from 0 to 255, let's normalize the vectors to be between 0 and 1.\n"
   ]
  },
  {
   "cell_type": "code",
   "execution_count": 8,
   "id": "b2b71bef-dd01-4e76-914e-f97e280b3be1",
   "metadata": {},
   "outputs": [],
   "source": [
    "# normalize inputs from 0-255 to 0-1\n",
    "X_train= X_train/ 255\n",
    "X_test= X_test/ 255"
   ]
  },
  {
   "cell_type": "markdown",
   "id": "8dba8319-79d1-4079-9afd-047692d9f3e4",
   "metadata": {},
   "source": [
    "Finally, before we start building our model, remember that for classification we need to divide our target variable into categories. We use the to_categorical function from the Keras Utilities package.\n"
   ]
  },
  {
   "cell_type": "code",
   "execution_count": 9,
   "id": "416635d1-1051-4b66-9acb-8dd5b8e68290",
   "metadata": {},
   "outputs": [
    {
     "name": "stdout",
     "output_type": "stream",
     "text": [
      "10\n"
     ]
    }
   ],
   "source": [
    "# one hot encode outputs\n",
    "y_train = to_categorical(y_train)\n",
    "y_test = to_categorical(y_test)\n",
    "\n",
    "num_classes = y_test.shape[1]\n",
    "print(num_classes)"
   ]
  },
  {
   "cell_type": "markdown",
   "id": "b11ce88d-0157-43f2-b64f-5b09fd916c78",
   "metadata": {},
   "source": [
    "## Build a Neural Network\n"
   ]
  },
  {
   "cell_type": "code",
   "execution_count": 14,
   "id": "22f4c784-d600-4b17-b494-3e98ee07af75",
   "metadata": {},
   "outputs": [],
   "source": [
    "# define classification model\n",
    "def classification_model():\n",
    "    model= Sequential()\n",
    "    model.add(Input(shape= (num_pixels,)))\n",
    "    model.add(Dense(num_pixels, activation='relu'))\n",
    "    model.add(Dense(100, activation='relu'))\n",
    "    model.add(Dense(num_classes, activation='softmax'))\n",
    "\n",
    "    model.compile(optimizer='adam', loss='categorical_crossentropy', metrics=['accuracy'])\n",
    "    return model"
   ]
  },
  {
   "cell_type": "markdown",
   "id": "aa0d7bc7-1344-4d0d-857b-4a91c685c232",
   "metadata": {},
   "source": [
    "## Train and Test the Network\n"
   ]
  },
  {
   "cell_type": "code",
   "execution_count": 15,
   "id": "711b258f-73fe-4ace-ae96-e72c71d6af67",
   "metadata": {},
   "outputs": [
    {
     "name": "stdout",
     "output_type": "stream",
     "text": [
      "Epoch 1/10\n",
      "1875/1875 - 11s - 6ms/step - accuracy: 0.9444 - loss: 0.1865 - val_accuracy: 0.9653 - val_loss: 0.1118\n",
      "Epoch 2/10\n",
      "1875/1875 - 9s - 5ms/step - accuracy: 0.9755 - loss: 0.0781 - val_accuracy: 0.9738 - val_loss: 0.0823\n",
      "Epoch 3/10\n",
      "1875/1875 - 8s - 4ms/step - accuracy: 0.9832 - loss: 0.0544 - val_accuracy: 0.9732 - val_loss: 0.0863\n",
      "Epoch 4/10\n",
      "1875/1875 - 8s - 4ms/step - accuracy: 0.9872 - loss: 0.0389 - val_accuracy: 0.9787 - val_loss: 0.0693\n",
      "Epoch 5/10\n",
      "1875/1875 - 8s - 4ms/step - accuracy: 0.9897 - loss: 0.0323 - val_accuracy: 0.9813 - val_loss: 0.0696\n",
      "Epoch 6/10\n",
      "1875/1875 - 8s - 4ms/step - accuracy: 0.9917 - loss: 0.0258 - val_accuracy: 0.9735 - val_loss: 0.1079\n",
      "Epoch 7/10\n",
      "1875/1875 - 8s - 5ms/step - accuracy: 0.9930 - loss: 0.0215 - val_accuracy: 0.9792 - val_loss: 0.0976\n",
      "Epoch 8/10\n",
      "1875/1875 - 8s - 4ms/step - accuracy: 0.9934 - loss: 0.0201 - val_accuracy: 0.9802 - val_loss: 0.0851\n",
      "Epoch 9/10\n",
      "1875/1875 - 8s - 5ms/step - accuracy: 0.9943 - loss: 0.0183 - val_accuracy: 0.9801 - val_loss: 0.0897\n",
      "Epoch 10/10\n",
      "1875/1875 - 9s - 5ms/step - accuracy: 0.9952 - loss: 0.0153 - val_accuracy: 0.9805 - val_loss: 0.0977\n"
     ]
    }
   ],
   "source": [
    "model= classification_model()\n",
    "model.fit(X_train, y_train, validation_data=(X_test, y_test), epochs=10, verbose=2)\n",
    "score= model.evaluate(X_test, y_test, verbose=0)"
   ]
  },
  {
   "cell_type": "markdown",
   "id": "d8668581-4e3e-4cae-a0ba-1932c560aa01",
   "metadata": {},
   "source": [
    "Let's print the accuracy and the corresponding error.\n"
   ]
  },
  {
   "cell_type": "code",
   "execution_count": 16,
   "id": "c62635ba-7b96-44d8-85e5-b93101313e45",
   "metadata": {},
   "outputs": [
    {
     "name": "stdout",
     "output_type": "stream",
     "text": [
      "Accuracy: 0.9804999828338623% \n",
      " Error: 0.019500017166137695\n"
     ]
    }
   ],
   "source": [
    "print('Accuracy: {}% \\n Error: {}'.format(score[1], 1 - score[1]))        "
   ]
  },
  {
   "cell_type": "markdown",
   "id": "8cb896d9-ac23-49e1-a08d-3e95a12f3baa",
   "metadata": {},
   "source": [
    "Just running 10 epochs could actually take over 20 minutes. But enjoy the results as they are getting generated.\n"
   ]
  },
  {
   "cell_type": "markdown",
   "id": "738fbd92-dfb1-49c5-b8d4-a1c0a60a4b06",
   "metadata": {},
   "source": [
    "Sometimes, you cannot afford to retrain your model everytime you want to use it, especially if you are limited on computational resources and training your model can take a long time. Therefore, with the Keras library, you can save your model after training. To do that, we use the save method.\n"
   ]
  },
  {
   "cell_type": "code",
   "execution_count": 17,
   "id": "26f2fd96-8a5e-4323-9fa2-0102ad9cabab",
   "metadata": {},
   "outputs": [],
   "source": [
    "model.save('00.Saved_models/classification_model.keras')"
   ]
  },
  {
   "cell_type": "markdown",
   "id": "b3f9a939-77b2-47df-ab3c-fb98d5951f3d",
   "metadata": {},
   "source": [
    "Since our model contains multidimensional arrays of data, then models are usually saved as .keras files.\n"
   ]
  },
  {
   "cell_type": "markdown",
   "id": "59a77d59-6abd-4025-ac75-2e890c84a72b",
   "metadata": {},
   "source": [
    "<h3>Practice Exercise 1</h3>\n"
   ]
  },
  {
   "cell_type": "markdown",
   "id": "9b4499a9-fdaa-4c5e-8a44-1332791440a0",
   "metadata": {},
   "source": [
    "Create a neural network model with 6 dense layers and compare its accuracy\n"
   ]
  },
  {
   "cell_type": "code",
   "execution_count": null,
   "id": "3c920a54-1d95-4f5a-8f3a-95f1f933a775",
   "metadata": {},
   "outputs": [],
   "source": [
    "def sixlayers_classification_model():\n",
    "\n",
    "    model= Sequential()\n",
    "    model.add(Input(shape=(num_pixels,)))\n",
    "    model.add(Dense(num_pixels, activation='relu'))\n",
    "    model.add(Dense(100, activation='relu'))\n",
    "    model.add(Dense(100, activation='relu'))\n",
    "    model.add(Dense(100, activation='relu'))\n",
    "    model.add(Dense(100, activation='relu'))\n",
    "    model.add(Dense(num_classes, activation='softmax'))\n",
    "\n",
    "    model.compile(optimizer='adam', loss= 'categorical_crossentropy', matrics=['accuracy'])\n",
    "    return model"
   ]
  },
  {
   "cell_type": "markdown",
   "id": "06868e1f-5543-4536-8ed3-ebbf3715663f",
   "metadata": {},
   "source": [
    "<h3>Practice Exercise 2</h3>\n"
   ]
  },
  {
   "cell_type": "markdown",
   "id": "c26cca9e-a280-4083-9399-536639edcc00",
   "metadata": {},
   "source": [
    "Now, load the the earlier saved model, train it further for 10 more epochs and check the accuracy\n"
   ]
  },
  {
   "cell_type": "code",
   "execution_count": 20,
   "id": "02fdd930-699f-4483-842e-38f66775fd36",
   "metadata": {},
   "outputs": [
    {
     "name": "stdout",
     "output_type": "stream",
     "text": [
      "Epoch 1/10\n",
      "1875/1875 - 9s - 5ms/step - accuracy: 0.9961 - loss: 0.0121 - val_accuracy: 0.9836 - val_loss: 0.0899\n",
      "Epoch 2/10\n",
      "1875/1875 - 8s - 4ms/step - accuracy: 0.9951 - loss: 0.0158 - val_accuracy: 0.9823 - val_loss: 0.0943\n",
      "Epoch 3/10\n",
      "1875/1875 - 8s - 4ms/step - accuracy: 0.9964 - loss: 0.0124 - val_accuracy: 0.9802 - val_loss: 0.1168\n",
      "Epoch 4/10\n",
      "1875/1875 - 8s - 4ms/step - accuracy: 0.9968 - loss: 0.0106 - val_accuracy: 0.9785 - val_loss: 0.1255\n",
      "Epoch 5/10\n",
      "1875/1875 - 8s - 4ms/step - accuracy: 0.9964 - loss: 0.0128 - val_accuracy: 0.9811 - val_loss: 0.1096\n",
      "Epoch 6/10\n",
      "1875/1875 - 8s - 4ms/step - accuracy: 0.9971 - loss: 0.0105 - val_accuracy: 0.9780 - val_loss: 0.1408\n",
      "Epoch 7/10\n",
      "1875/1875 - 8s - 4ms/step - accuracy: 0.9967 - loss: 0.0116 - val_accuracy: 0.9791 - val_loss: 0.1299\n",
      "Epoch 8/10\n",
      "1875/1875 - 9s - 5ms/step - accuracy: 0.9975 - loss: 0.0085 - val_accuracy: 0.9785 - val_loss: 0.1414\n",
      "Epoch 9/10\n",
      "1875/1875 - 8s - 4ms/step - accuracy: 0.9967 - loss: 0.0136 - val_accuracy: 0.9816 - val_loss: 0.1053\n",
      "Epoch 10/10\n",
      "1875/1875 - 8s - 5ms/step - accuracy: 0.9976 - loss: 0.0089 - val_accuracy: 0.9819 - val_loss: 0.1159\n",
      "Accuracy_10_epochs: 0.9804999828338623% \n",
      " Accuracy_20_epochs: 0.9818999767303467\n"
     ]
    }
   ],
   "source": [
    "pretrained_model= keras.saving.load_model('00.Saved_models/classification_model.keras')\n",
    "pretrained_model.fit(X_train, y_train, validation_data=(X_test, y_test), epochs=10, verbose=2)\n",
    "\n",
    "scores_20_epochs = pretrained_model.evaluate(X_test, y_test, verbose=0)\n",
    "print('Accuracy_10_epochs: {}% \\n Accuracy_20_epochs: {}'.format(score[1], scores_20_epochs[1])) "
   ]
  }
 ],
 "metadata": {
  "kernelspec": {
   "display_name": ".env",
   "language": "python",
   "name": "python3"
  },
  "language_info": {
   "codemirror_mode": {
    "name": "ipython",
    "version": 3
   },
   "file_extension": ".py",
   "mimetype": "text/x-python",
   "name": "python",
   "nbconvert_exporter": "python",
   "pygments_lexer": "ipython3",
   "version": "3.11.7"
  },
  "prev_pub_hash": "c850b639d611b84ea2eecf5ddb84ea433849e20b6766a84b43a9df0c51e4e9ee"
 },
 "nbformat": 4,
 "nbformat_minor": 4
}
